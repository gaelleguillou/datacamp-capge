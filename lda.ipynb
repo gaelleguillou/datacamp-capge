{
 "cells": [
  {
   "cell_type": "code",
   "execution_count": 1,
   "metadata": {},
   "outputs": [],
   "source": [
    "import pandas as pd\n",
    "pd.set_option(\"display.max_colwidth\", 40)\n",
    "import numpy as np\n",
    "import re\n",
    "import spacy\n",
    "import nltk\n",
    "from nltk import FreqDist\n",
    "import gensim\n",
    "from gensim import corpora\n",
    "\n",
    "# libraries for visualization\n",
    "import pyLDAvis\n",
    "import pyLDAvis.gensim\n",
    "import matplotlib.pyplot as plt\n",
    "import seaborn as sns\n",
    "\n",
    "%matplotlib inline"
   ]
  },
  {
   "cell_type": "markdown",
   "metadata": {},
   "source": [
    "## Load  Data"
   ]
  },
  {
   "cell_type": "code",
   "execution_count": 5,
   "metadata": {},
   "outputs": [],
   "source": [
    "data = pd.read_csv(\"comments_lemmentized.csv\", index_col=0, sep=';')"
   ]
  },
  {
   "cell_type": "code",
   "execution_count": 6,
   "metadata": {},
   "outputs": [
    {
     "data": {
      "text/plain": [
       "(1303, 1)"
      ]
     },
     "execution_count": 6,
     "metadata": {},
     "output_type": "execute_result"
    }
   ],
   "source": [
    "data.shape"
   ]
  },
  {
   "cell_type": "code",
   "execution_count": 4,
   "metadata": {},
   "outputs": [
    {
     "ename": "AttributeError",
     "evalue": "'DataFrame' object has no attribute 'language'",
     "output_type": "error",
     "traceback": [
      "\u001b[0;31m---------------------------------------------------------------------------\u001b[0m",
      "\u001b[0;31mAttributeError\u001b[0m                            Traceback (most recent call last)",
      "\u001b[0;32m<ipython-input-4-5577577d2987>\u001b[0m in \u001b[0;36m<module>\u001b[0;34m\u001b[0m\n\u001b[0;32m----> 1\u001b[0;31m \u001b[0mdata\u001b[0m \u001b[0;34m=\u001b[0m \u001b[0mdata\u001b[0m\u001b[0;34m[\u001b[0m\u001b[0mdata\u001b[0m\u001b[0;34m.\u001b[0m\u001b[0mlanguage\u001b[0m\u001b[0;34m==\u001b[0m\u001b[0;34m'en'\u001b[0m\u001b[0;34m]\u001b[0m\u001b[0;34m\u001b[0m\u001b[0;34m\u001b[0m\u001b[0m\n\u001b[0m",
      "\u001b[0;32m/Library/Frameworks/Python.framework/Versions/3.6/lib/python3.6/site-packages/pandas/core/generic.py\u001b[0m in \u001b[0;36m__getattr__\u001b[0;34m(self, name)\u001b[0m\n\u001b[1;32m   4374\u001b[0m             \u001b[0;32mif\u001b[0m \u001b[0mself\u001b[0m\u001b[0;34m.\u001b[0m\u001b[0m_info_axis\u001b[0m\u001b[0;34m.\u001b[0m\u001b[0m_can_hold_identifiers_and_holds_name\u001b[0m\u001b[0;34m(\u001b[0m\u001b[0mname\u001b[0m\u001b[0;34m)\u001b[0m\u001b[0;34m:\u001b[0m\u001b[0;34m\u001b[0m\u001b[0;34m\u001b[0m\u001b[0m\n\u001b[1;32m   4375\u001b[0m                 \u001b[0;32mreturn\u001b[0m \u001b[0mself\u001b[0m\u001b[0;34m[\u001b[0m\u001b[0mname\u001b[0m\u001b[0;34m]\u001b[0m\u001b[0;34m\u001b[0m\u001b[0;34m\u001b[0m\u001b[0m\n\u001b[0;32m-> 4376\u001b[0;31m             \u001b[0;32mreturn\u001b[0m \u001b[0mobject\u001b[0m\u001b[0;34m.\u001b[0m\u001b[0m__getattribute__\u001b[0m\u001b[0;34m(\u001b[0m\u001b[0mself\u001b[0m\u001b[0;34m,\u001b[0m \u001b[0mname\u001b[0m\u001b[0;34m)\u001b[0m\u001b[0;34m\u001b[0m\u001b[0;34m\u001b[0m\u001b[0m\n\u001b[0m\u001b[1;32m   4377\u001b[0m \u001b[0;34m\u001b[0m\u001b[0m\n\u001b[1;32m   4378\u001b[0m     \u001b[0;32mdef\u001b[0m \u001b[0m__setattr__\u001b[0m\u001b[0;34m(\u001b[0m\u001b[0mself\u001b[0m\u001b[0;34m,\u001b[0m \u001b[0mname\u001b[0m\u001b[0;34m,\u001b[0m \u001b[0mvalue\u001b[0m\u001b[0;34m)\u001b[0m\u001b[0;34m:\u001b[0m\u001b[0;34m\u001b[0m\u001b[0;34m\u001b[0m\u001b[0m\n",
      "\u001b[0;31mAttributeError\u001b[0m: 'DataFrame' object has no attribute 'language'"
     ]
    }
   ],
   "source": []
  },
  {
   "cell_type": "code",
   "execution_count": 8,
   "metadata": {},
   "outputs": [
    {
     "data": {
      "text/html": [
       "<div>\n",
       "<style scoped>\n",
       "    .dataframe tbody tr th:only-of-type {\n",
       "        vertical-align: middle;\n",
       "    }\n",
       "\n",
       "    .dataframe tbody tr th {\n",
       "        vertical-align: top;\n",
       "    }\n",
       "\n",
       "    .dataframe thead th {\n",
       "        text-align: right;\n",
       "    }\n",
       "</style>\n",
       "<table border=\"1\" class=\"dataframe\">\n",
       "  <thead>\n",
       "    <tr style=\"text-align: right;\">\n",
       "      <th></th>\n",
       "      <th>lemmantized_reviews</th>\n",
       "    </tr>\n",
       "  </thead>\n",
       "  <tbody>\n",
       "    <tr>\n",
       "      <th>0</th>\n",
       "      <td>['premium', 'cottage', 'renovate', '...</td>\n",
       "    </tr>\n",
       "    <tr>\n",
       "      <th>1</th>\n",
       "      <td>['nice', 'environment', 'peaceful', ...</td>\n",
       "    </tr>\n",
       "    <tr>\n",
       "      <th>2</th>\n",
       "      <td>['expectation', 'high', 'read', 'rev...</td>\n",
       "    </tr>\n",
       "    <tr>\n",
       "      <th>3</th>\n",
       "      <td>['quite', 'center', 'parcs', 'france...</td>\n",
       "    </tr>\n",
       "    <tr>\n",
       "      <th>4</th>\n",
       "      <td>['new', 'year', 'trip', 'family', 's...</td>\n",
       "    </tr>\n",
       "  </tbody>\n",
       "</table>\n",
       "</div>"
      ],
      "text/plain": [
       "                       lemmantized_reviews\n",
       "0  ['premium', 'cottage', 'renovate', '...\n",
       "1  ['nice', 'environment', 'peaceful', ...\n",
       "2  ['expectation', 'high', 'read', 'rev...\n",
       "3  ['quite', 'center', 'parcs', 'france...\n",
       "4  ['new', 'year', 'trip', 'family', 's..."
      ]
     },
     "execution_count": 8,
     "metadata": {},
     "output_type": "execute_result"
    }
   ],
   "source": [
    "data.head()"
   ]
  },
  {
   "cell_type": "code",
   "execution_count": 9,
   "metadata": {},
   "outputs": [],
   "source": [
    "#the lemmantized_reviews are interpreted as a string by the read_csv command. We convert it into a list. \n",
    "data['lemmantized_reviews'] = data['lemmantized_reviews'].str.replace(r\"[\\[\\]\\']\", \"\").str.split(\", \")"
   ]
  },
  {
   "cell_type": "code",
   "execution_count": 7,
   "metadata": {},
   "outputs": [
    {
     "data": {
      "text/plain": [
       "['premium',\n",
       " 'cottage',\n",
       " 'renovate',\n",
       " 'out',\n",
       " 'ring',\n",
       " 'park',\n",
       " 'mean',\n",
       " 'dome',\n",
       " 'shop',\n",
       " 'minute']"
      ]
     },
     "execution_count": 7,
     "metadata": {},
     "output_type": "execute_result"
    }
   ],
   "source": [
    "data['lemmantized_reviews'][0][:10] #checking if it's a list"
   ]
  },
  {
   "cell_type": "code",
   "execution_count": 10,
   "metadata": {},
   "outputs": [],
   "source": [
    "data.dropna(subset=['lemmantized_reviews'], inplace=True)"
   ]
  },
  {
   "cell_type": "code",
   "execution_count": 11,
   "metadata": {
    "scrolled": true
   },
   "outputs": [
    {
     "data": {
      "text/plain": [
       "(1303, 1)"
      ]
     },
     "execution_count": 11,
     "metadata": {},
     "output_type": "execute_result"
    }
   ],
   "source": [
    "data.shape"
   ]
  },
  {
   "cell_type": "markdown",
   "metadata": {},
   "source": [
    "## Remove words"
   ]
  },
  {
   "cell_type": "code",
   "execution_count": 12,
   "metadata": {},
   "outputs": [],
   "source": [
    "# We list the words we want to get rid of\n",
    "list_stop_words = [\"good\", \"great\", \"one\", \"nt\", \"u2013\", \"\", \"would\", \"get\", \"center\", \"parcs\"]"
   ]
  },
  {
   "cell_type": "code",
   "execution_count": 13,
   "metadata": {},
   "outputs": [],
   "source": [
    "def remove_stop_word(x, list_stop_words=list_stop_words):\n",
    "    clean_x = [l for l in x if l not in list_stop_words]\n",
    "    return clean_x"
   ]
  },
  {
   "cell_type": "code",
   "execution_count": 14,
   "metadata": {},
   "outputs": [],
   "source": [
    "data['lemmantized_reviews'] = data['lemmantized_reviews'].apply(remove_stop_word)"
   ]
  },
  {
   "cell_type": "code",
   "execution_count": 15,
   "metadata": {},
   "outputs": [
    {
     "data": {
      "text/html": [
       "<div>\n",
       "<style scoped>\n",
       "    .dataframe tbody tr th:only-of-type {\n",
       "        vertical-align: middle;\n",
       "    }\n",
       "\n",
       "    .dataframe tbody tr th {\n",
       "        vertical-align: top;\n",
       "    }\n",
       "\n",
       "    .dataframe thead th {\n",
       "        text-align: right;\n",
       "    }\n",
       "</style>\n",
       "<table border=\"1\" class=\"dataframe\">\n",
       "  <thead>\n",
       "    <tr style=\"text-align: right;\">\n",
       "      <th></th>\n",
       "      <th>lemmantized_reviews</th>\n",
       "    </tr>\n",
       "  </thead>\n",
       "  <tbody>\n",
       "    <tr>\n",
       "      <th>0</th>\n",
       "      <td>[premium, cottage, renovate, ring, p...</td>\n",
       "    </tr>\n",
       "    <tr>\n",
       "      <th>1</th>\n",
       "      <td>[nice, environment, peaceful, facili...</td>\n",
       "    </tr>\n",
       "    <tr>\n",
       "      <th>2</th>\n",
       "      <td>[expectation, high, read, review, we...</td>\n",
       "    </tr>\n",
       "    <tr>\n",
       "      <th>3</th>\n",
       "      <td>[quite, france, normandy, old, franc...</td>\n",
       "    </tr>\n",
       "    <tr>\n",
       "      <th>4</th>\n",
       "      <td>[new, year, trip, family, stay, week...</td>\n",
       "    </tr>\n",
       "  </tbody>\n",
       "</table>\n",
       "</div>"
      ],
      "text/plain": [
       "                       lemmantized_reviews\n",
       "0  [premium, cottage, renovate, ring, p...\n",
       "1  [nice, environment, peaceful, facili...\n",
       "2  [expectation, high, read, review, we...\n",
       "3  [quite, france, normandy, old, franc...\n",
       "4  [new, year, trip, family, stay, week..."
      ]
     },
     "execution_count": 15,
     "metadata": {},
     "output_type": "execute_result"
    }
   ],
   "source": [
    "data.head()"
   ]
  },
  {
   "cell_type": "code",
   "execution_count": 16,
   "metadata": {},
   "outputs": [
    {
     "data": {
      "text/plain": [
       "(1303, 1)"
      ]
     },
     "execution_count": 16,
     "metadata": {},
     "output_type": "execute_result"
    }
   ],
   "source": [
    "data.shape"
   ]
  },
  {
   "cell_type": "markdown",
   "metadata": {},
   "source": [
    "## Building an LDA model"
   ]
  },
  {
   "cell_type": "code",
   "execution_count": 17,
   "metadata": {},
   "outputs": [],
   "source": [
    "dictionary = corpora.Dictionary(data['lemmantized_reviews'])"
   ]
  },
  {
   "cell_type": "code",
   "execution_count": 18,
   "metadata": {},
   "outputs": [
    {
     "data": {
      "text/plain": [
       "10911"
      ]
     },
     "execution_count": 18,
     "metadata": {},
     "output_type": "execute_result"
    }
   ],
   "source": [
    "len(dictionary)"
   ]
  },
  {
   "cell_type": "code",
   "execution_count": 19,
   "metadata": {},
   "outputs": [],
   "source": [
    "doc_term_matrix = [dictionary.doc2bow(rev) for rev in data['lemmantized_reviews']]"
   ]
  },
  {
   "cell_type": "code",
   "execution_count": 20,
   "metadata": {},
   "outputs": [],
   "source": [
    "import warnings\n",
    "warnings.filterwarnings('ignore')\n",
    "\n",
    "# Creating the object for LDA model using gensim library\n",
    "LDA = gensim.models.ldamodel.LdaModel\n",
    "\n",
    "# Build LDA model\n",
    "num_topics = 5\n",
    "lda_model = LDA(corpus=doc_term_matrix, id2word=dictionary, \n",
    "                num_topics=num_topics, \n",
    "                alpha=[0.0001] * num_topics, \n",
    "                eta=[0.0001] * len(dictionary),\n",
    "                chunksize=2000,\n",
    "                passes=4,\n",
    "                random_state=100,\n",
    "               )"
   ]
  },
  {
   "cell_type": "code",
   "execution_count": 21,
   "metadata": {
    "scrolled": true
   },
   "outputs": [
    {
     "data": {
      "text/plain": [
       "[(0,\n",
       "  '0.013*\"cottage\" + 0.008*\"time\" + 0.007*\"restaurant\" + 0.007*\"kid\" + 0.006*\"pool\" + 0.006*\"family\" + 0.006*\"day\" + 0.006*\"staff\"'),\n",
       " (1,\n",
       "  '0.008*\"area\" + 0.008*\"park\" + 0.007*\"day\" + 0.007*\"lot\" + 0.007*\"activity\" + 0.007*\"pool\" + 0.006*\"site\" + 0.006*\"restaurant\"'),\n",
       " (2,\n",
       "  '0.014*\"cottage\" + 0.008*\"pool\" + 0.008*\"area\" + 0.007*\"park\" + 0.007*\"staff\" + 0.007*\"time\" + 0.006*\"child\" + 0.006*\"restaurant\"'),\n",
       " (3,\n",
       "  '0.009*\"time\" + 0.008*\"activity\" + 0.008*\"kid\" + 0.008*\"staff\" + 0.007*\"much\" + 0.006*\"park\" + 0.006*\"also\" + 0.006*\"english\"'),\n",
       " (4,\n",
       "  '0.013*\"cottage\" + 0.008*\"time\" + 0.007*\"really\" + 0.007*\"kid\" + 0.006*\"activity\" + 0.006*\"pool\" + 0.006*\"park\" + 0.006*\"child\"')]"
      ]
     },
     "execution_count": 21,
     "metadata": {},
     "output_type": "execute_result"
    }
   ],
   "source": [
    "lda_model.print_topics(num_words=8)"
   ]
  },
  {
   "cell_type": "markdown",
   "metadata": {},
   "source": [
    "## Topic visualization"
   ]
  },
  {
   "cell_type": "code",
   "execution_count": 22,
   "metadata": {},
   "outputs": [],
   "source": [
    "# Visualize the topics\n",
    "pd.options.display.max_colwidth = 2000\n",
    "viz = pyLDAvis.gensim.prepare(lda_model, doc_term_matrix, dictionary, mds='tsne')"
   ]
  },
  {
   "cell_type": "code",
   "execution_count": 23,
   "metadata": {},
   "outputs": [
    {
     "data": {
      "text/html": [
       "\n",
       "<link rel=\"stylesheet\" type=\"text/css\" href=\"https://cdn.rawgit.com/bmabey/pyLDAvis/files/ldavis.v1.0.0.css\">\n",
       "\n",
       "\n",
       "<div id=\"ldavis_el1768150117301287001751646\"></div>\n",
       "<script type=\"text/javascript\">\n",
       "\n",
       "var ldavis_el1768150117301287001751646_data = {\"mdsDat\": {\"x\": [600.1934814453125, -229.93809509277344, -546.7127685546875, 373.8835144042969, 11.660259246826172], \"y\": [184.53445434570312, -447.6191101074219, 94.9124984741211, -401.6208801269531, 334.0950622558594], \"topics\": [1, 2, 3, 4, 5], \"cluster\": [1, 1, 1, 1, 1], \"Freq\": [28.352025985717773, 22.31512451171875, 17.386489868164062, 16.44339942932129, 15.50295639038086]}, \"tinfo\": {\"Category\": [\"Default\", \"Default\", \"Default\", \"Default\", \"Default\", \"Default\", \"Default\", \"Default\", \"Default\", \"Default\", \"Default\", \"Default\", \"Default\", \"Default\", \"Default\", \"Default\", \"Default\", \"Default\", \"Default\", \"Default\", \"Default\", \"Default\", \"Default\", \"Default\", \"Default\", \"Default\", \"Default\", \"Default\", \"Default\", \"Default\", \"Topic1\", \"Topic1\", \"Topic1\", \"Topic1\", \"Topic1\", \"Topic1\", \"Topic1\", \"Topic1\", \"Topic1\", \"Topic1\", \"Topic1\", \"Topic1\", \"Topic1\", \"Topic1\", \"Topic1\", \"Topic1\", \"Topic1\", \"Topic1\", \"Topic1\", \"Topic1\", \"Topic1\", \"Topic1\", \"Topic1\", \"Topic1\", \"Topic1\", \"Topic1\", \"Topic1\", \"Topic1\", \"Topic1\", \"Topic1\", \"Topic1\", \"Topic1\", \"Topic1\", \"Topic1\", \"Topic1\", \"Topic1\", \"Topic1\", \"Topic1\", \"Topic1\", \"Topic1\", \"Topic1\", \"Topic1\", \"Topic1\", \"Topic1\", \"Topic1\", \"Topic1\", \"Topic1\", \"Topic1\", \"Topic1\", \"Topic1\", \"Topic1\", \"Topic1\", \"Topic1\", \"Topic1\", \"Topic1\", \"Topic1\", \"Topic1\", \"Topic1\", \"Topic1\", \"Topic1\", \"Topic1\", \"Topic1\", \"Topic1\", \"Topic1\", \"Topic1\", \"Topic1\", \"Topic1\", \"Topic1\", \"Topic1\", \"Topic1\", \"Topic1\", \"Topic1\", \"Topic1\", \"Topic1\", \"Topic1\", \"Topic1\", \"Topic1\", \"Topic1\", \"Topic1\", \"Topic1\", \"Topic1\", \"Topic1\", \"Topic1\", \"Topic1\", \"Topic1\", \"Topic1\", \"Topic1\", \"Topic1\", \"Topic1\", \"Topic1\", \"Topic1\", \"Topic1\", \"Topic1\", \"Topic1\", \"Topic1\", \"Topic1\", \"Topic1\", \"Topic1\", \"Topic1\", \"Topic1\", \"Topic1\", \"Topic1\", \"Topic1\", \"Topic1\", \"Topic1\", \"Topic1\", \"Topic1\", \"Topic1\", \"Topic1\", \"Topic1\", \"Topic1\", \"Topic1\", \"Topic1\", \"Topic1\", \"Topic1\", \"Topic1\", \"Topic1\", \"Topic1\", \"Topic1\", \"Topic1\", \"Topic1\", \"Topic1\", \"Topic1\", \"Topic1\", \"Topic1\", \"Topic1\", \"Topic1\", \"Topic1\", \"Topic1\", \"Topic1\", \"Topic1\", \"Topic1\", \"Topic1\", \"Topic1\", \"Topic1\", \"Topic1\", \"Topic1\", \"Topic1\", \"Topic1\", \"Topic2\", \"Topic2\", \"Topic2\", \"Topic2\", \"Topic2\", \"Topic2\", \"Topic2\", \"Topic2\", \"Topic2\", \"Topic2\", \"Topic2\", \"Topic2\", \"Topic2\", \"Topic2\", \"Topic2\", \"Topic2\", \"Topic2\", \"Topic2\", \"Topic2\", \"Topic2\", \"Topic2\", \"Topic2\", \"Topic2\", \"Topic2\", \"Topic2\", \"Topic2\", \"Topic2\", \"Topic2\", \"Topic2\", \"Topic2\", \"Topic2\", \"Topic2\", \"Topic2\", \"Topic2\", \"Topic2\", \"Topic2\", \"Topic2\", \"Topic2\", \"Topic2\", \"Topic2\", \"Topic2\", \"Topic2\", \"Topic2\", \"Topic2\", \"Topic2\", \"Topic2\", \"Topic2\", \"Topic2\", \"Topic2\", \"Topic2\", \"Topic2\", \"Topic2\", \"Topic2\", \"Topic2\", \"Topic2\", \"Topic2\", \"Topic2\", \"Topic2\", \"Topic2\", \"Topic2\", \"Topic2\", \"Topic2\", \"Topic2\", \"Topic2\", \"Topic2\", \"Topic2\", \"Topic2\", \"Topic2\", \"Topic2\", \"Topic2\", \"Topic2\", \"Topic2\", \"Topic2\", \"Topic2\", \"Topic2\", \"Topic2\", \"Topic2\", \"Topic2\", \"Topic2\", \"Topic2\", \"Topic2\", \"Topic2\", \"Topic2\", \"Topic2\", \"Topic2\", \"Topic2\", \"Topic2\", \"Topic2\", \"Topic2\", \"Topic2\", \"Topic2\", \"Topic2\", \"Topic2\", \"Topic2\", \"Topic2\", \"Topic2\", \"Topic2\", \"Topic2\", \"Topic2\", \"Topic2\", \"Topic2\", \"Topic2\", \"Topic2\", \"Topic2\", \"Topic2\", \"Topic2\", \"Topic2\", \"Topic2\", \"Topic2\", \"Topic2\", \"Topic2\", \"Topic2\", \"Topic2\", \"Topic2\", \"Topic2\", \"Topic2\", \"Topic2\", \"Topic2\", \"Topic2\", \"Topic2\", \"Topic2\", \"Topic2\", \"Topic2\", \"Topic2\", \"Topic2\", \"Topic2\", \"Topic2\", \"Topic2\", \"Topic2\", \"Topic2\", \"Topic3\", \"Topic3\", \"Topic3\", \"Topic3\", \"Topic3\", \"Topic3\", \"Topic3\", \"Topic3\", \"Topic3\", \"Topic3\", \"Topic3\", \"Topic3\", \"Topic3\", \"Topic3\", \"Topic3\", \"Topic3\", \"Topic3\", \"Topic3\", \"Topic3\", \"Topic3\", \"Topic3\", \"Topic3\", \"Topic3\", \"Topic3\", \"Topic3\", \"Topic3\", \"Topic3\", \"Topic3\", \"Topic3\", \"Topic3\", \"Topic3\", \"Topic3\", \"Topic3\", \"Topic3\", \"Topic3\", \"Topic3\", \"Topic3\", \"Topic3\", \"Topic3\", \"Topic3\", \"Topic3\", \"Topic3\", \"Topic3\", \"Topic3\", \"Topic3\", \"Topic3\", \"Topic3\", \"Topic3\", \"Topic3\", \"Topic3\", \"Topic3\", \"Topic3\", \"Topic3\", \"Topic3\", \"Topic3\", \"Topic3\", \"Topic3\", \"Topic3\", \"Topic3\", \"Topic3\", \"Topic3\", \"Topic3\", \"Topic3\", \"Topic3\", \"Topic3\", \"Topic3\", \"Topic3\", \"Topic3\", \"Topic3\", \"Topic3\", \"Topic3\", \"Topic3\", \"Topic3\", \"Topic3\", \"Topic3\", \"Topic3\", \"Topic3\", \"Topic3\", \"Topic3\", \"Topic3\", \"Topic3\", \"Topic3\", \"Topic3\", \"Topic3\", \"Topic3\", \"Topic3\", \"Topic3\", \"Topic3\", \"Topic3\", \"Topic3\", \"Topic3\", \"Topic3\", \"Topic3\", \"Topic3\", \"Topic3\", \"Topic3\", \"Topic3\", \"Topic3\", \"Topic3\", \"Topic3\", \"Topic3\", \"Topic3\", \"Topic3\", \"Topic3\", \"Topic3\", \"Topic3\", \"Topic3\", \"Topic3\", \"Topic3\", \"Topic3\", \"Topic3\", \"Topic3\", \"Topic3\", \"Topic3\", \"Topic3\", \"Topic3\", \"Topic4\", \"Topic4\", \"Topic4\", \"Topic4\", \"Topic4\", \"Topic4\", \"Topic4\", \"Topic4\", \"Topic4\", \"Topic4\", \"Topic4\", \"Topic4\", \"Topic4\", \"Topic4\", \"Topic4\", \"Topic4\", \"Topic4\", \"Topic4\", \"Topic4\", \"Topic4\", \"Topic4\", \"Topic4\", \"Topic4\", \"Topic4\", \"Topic4\", \"Topic4\", \"Topic4\", \"Topic4\", \"Topic4\", \"Topic4\", \"Topic4\", \"Topic4\", \"Topic4\", \"Topic4\", \"Topic4\", \"Topic4\", \"Topic4\", \"Topic4\", \"Topic4\", \"Topic4\", \"Topic4\", \"Topic4\", \"Topic4\", \"Topic4\", \"Topic4\", \"Topic4\", \"Topic4\", \"Topic4\", \"Topic4\", \"Topic4\", \"Topic4\", \"Topic4\", \"Topic4\", \"Topic4\", \"Topic4\", \"Topic4\", \"Topic4\", \"Topic4\", \"Topic4\", \"Topic4\", \"Topic4\", \"Topic4\", \"Topic4\", \"Topic4\", \"Topic4\", \"Topic4\", \"Topic4\", \"Topic4\", \"Topic4\", \"Topic4\", \"Topic4\", \"Topic4\", \"Topic4\", \"Topic4\", \"Topic4\", \"Topic4\", \"Topic4\", \"Topic4\", \"Topic4\", \"Topic4\", \"Topic4\", \"Topic4\", \"Topic4\", \"Topic4\", \"Topic4\", \"Topic4\", \"Topic4\", \"Topic4\", \"Topic4\", \"Topic4\", \"Topic4\", \"Topic4\", \"Topic4\", \"Topic4\", \"Topic4\", \"Topic4\", \"Topic4\", \"Topic4\", \"Topic4\", \"Topic4\", \"Topic4\", \"Topic4\", \"Topic4\", \"Topic4\", \"Topic4\", \"Topic4\", \"Topic4\", \"Topic4\", \"Topic4\", \"Topic4\", \"Topic4\", \"Topic4\", \"Topic4\", \"Topic4\", \"Topic4\", \"Topic4\", \"Topic4\", \"Topic4\", \"Topic4\", \"Topic5\", \"Topic5\", \"Topic5\", \"Topic5\", \"Topic5\", \"Topic5\", \"Topic5\", \"Topic5\", \"Topic5\", \"Topic5\", \"Topic5\", \"Topic5\", \"Topic5\", \"Topic5\", \"Topic5\", \"Topic5\", \"Topic5\", \"Topic5\", \"Topic5\", \"Topic5\", \"Topic5\", \"Topic5\", \"Topic5\", \"Topic5\", \"Topic5\", \"Topic5\", \"Topic5\", \"Topic5\", \"Topic5\", \"Topic5\", \"Topic5\", \"Topic5\", \"Topic5\", \"Topic5\", \"Topic5\", \"Topic5\", \"Topic5\", \"Topic5\", \"Topic5\", \"Topic5\", \"Topic5\", \"Topic5\", \"Topic5\", \"Topic5\", \"Topic5\", \"Topic5\", \"Topic5\", \"Topic5\", \"Topic5\", \"Topic5\", \"Topic5\", \"Topic5\", \"Topic5\", \"Topic5\", \"Topic5\", \"Topic5\", \"Topic5\", \"Topic5\", \"Topic5\", \"Topic5\", \"Topic5\", \"Topic5\", \"Topic5\", \"Topic5\", \"Topic5\", \"Topic5\", \"Topic5\", \"Topic5\", \"Topic5\", \"Topic5\", \"Topic5\", \"Topic5\", \"Topic5\", \"Topic5\", \"Topic5\", \"Topic5\", \"Topic5\", \"Topic5\", \"Topic5\", \"Topic5\", \"Topic5\", \"Topic5\", \"Topic5\", \"Topic5\", \"Topic5\", \"Topic5\", \"Topic5\", \"Topic5\", \"Topic5\", \"Topic5\", \"Topic5\", \"Topic5\", \"Topic5\", \"Topic5\", \"Topic5\", \"Topic5\", \"Topic5\", \"Topic5\", \"Topic5\", \"Topic5\", \"Topic5\", \"Topic5\", \"Topic5\", \"Topic5\", \"Topic5\", \"Topic5\", \"Topic5\", \"Topic5\", \"Topic5\", \"Topic5\", \"Topic5\", \"Topic5\", \"Topic5\", \"Topic5\", \"Topic5\", \"Topic5\", \"Topic5\", \"Topic5\", \"Topic5\", \"Topic5\", \"Topic5\", \"Topic5\", \"Topic5\", \"Topic5\", \"Topic5\", \"Topic5\", \"Topic5\", \"Topic5\"], \"Freq\": [216.0, 353.0, 360.0, 1261.0, 356.0, 448.0, 664.0, 144.0, 652.0, 137.0, 433.0, 194.0, 240.0, 667.0, 185.0, 759.0, 170.0, 74.0, 111.0, 567.0, 761.0, 325.0, 876.0, 240.0, 526.0, 243.0, 83.0, 747.0, 673.0, 217.0, 2.0109198093414307, 1.001659870147705, 1.0017616748809814, 1.001704454421997, 1.0016894340515137, 1.0017341375350952, 1.0016872882843018, 1.001732587814331, 1.0017143487930298, 1.0017145872116089, 1.0016850233078003, 1.0016436576843262, 1.0016549825668335, 1.00166916847229, 1.0017220973968506, 1.0016721487045288, 1.0017542839050293, 1.001623511314392, 1.0015649795532227, 1.001668095588684, 1.0016539096832275, 1.0017551183700562, 1.0017400979995728, 1.0016893148422241, 1.0017346143722534, 1.0016939640045166, 1.001686692237854, 1.0016974210739136, 1.00163733959198, 1.0017542839050293, 1.0017404556274414, 1.0017309188842773, 1.0017205476760864, 1.0017187595367432, 1.0017255544662476, 1.0017290115356445, 1.0017215013504028, 1.0017063617706299, 1.0017107725143433, 1.0017094612121582, 1.0017132759094238, 1.0017082691192627, 1.0017069578170776, 1.0017025470733643, 1.001695990562439, 1.9919452667236328, 2.966426134109497, 1.9920551776885986, 1.986596703529358, 9.590676307678223, 4.829401969909668, 2.9280781745910645, 2.929331064224243, 3.851776599884033, 1.9627772569656372, 1.9626156091690063, 1.9574280977249146, 1.955019235610962, 1.954014539718628, 2.884162425994873, 3.7873997688293457, 3.7797014713287354, 2.8750171661376953, 1.953107476234436, 2.8707845211029053, 1.9506018161773682, 2.868570327758789, 1.950196385383606, 1.948358178138733, 1.9482389688491821, 1.9466052055358887, 1.946006178855896, 2.8604977130889893, 2.857874870300293, 3.742837429046631, 2.854531764984131, 4.604123115539551, 5.433169841766357, 2.8448281288146973, 3.684256076812744, 3.68662691116333, 2.830576181411743, 2.8322529792785645, 2.8263180255889893, 2.8229503631591797, 2.8204023838043213, 3.6239192485809326, 8.029669761657715, 152.0469207763672, 56.741172790527344, 10.346985816955566, 443.974853515625, 235.96656799316406, 99.3226547241211, 81.86198425292969, 35.584224700927734, 84.51416015625, 50.79841613769531, 11.121918678283691, 6.357597351074219, 283.3265075683594, 98.02718353271484, 123.37918853759766, 47.405677795410156, 87.88349914550781, 44.3155632019043, 55.22855758666992, 138.3006134033203, 64.85969543457031, 150.7855987548828, 144.6349639892578, 197.60267639160156, 221.0484161376953, 88.50621795654297, 44.112098693847656, 217.580078125, 173.17422485351562, 80.4200210571289, 93.61778259277344, 53.28677749633789, 206.2762451171875, 212.26304626464844, 139.64747619628906, 146.4036865234375, 181.76441955566406, 177.94830322265625, 121.8681869506836, 143.04226684570312, 140.9976348876953, 144.1908721923828, 132.18338012695312, 133.3690643310547, 112.55513763427734, 144.57691955566406, 121.2231216430664, 126.62431335449219, 126.03356170654297, 128.10044860839844, 115.91516876220703, 0.9676116704940796, 0.9675707221031189, 0.9675124287605286, 0.9675930738449097, 0.9675058722496033, 0.9675320982933044, 0.9675681591033936, 0.9676274061203003, 0.9675455689430237, 0.9676041007041931, 0.967620849609375, 0.9675903916358948, 0.96756911277771, 0.9675956964492798, 0.9676219820976257, 0.9675934910774231, 0.9676023721694946, 0.9675956964492798, 0.967561662197113, 0.9676147699356079, 0.9675483703613281, 0.9675355553627014, 0.967529296875, 0.9675149321556091, 0.9675976037979126, 0.9674510359764099, 0.9675789475440979, 0.9676071405410767, 0.9675653576850891, 0.9675806760787964, 1.9390714168548584, 1.938798427581787, 1.9386712312698364, 1.9384939670562744, 1.9384593963623047, 1.9384649991989136, 1.9384374618530273, 1.9382884502410889, 1.9379380941390991, 1.9378142356872559, 1.9373633861541748, 1.9371157884597778, 1.9282574653625488, 0.9676104187965393, 0.9676164984703064, 0.9676163196563721, 0.9676080346107483, 0.9676083326339722, 0.9676045775413513, 0.9676020741462708, 5.519123554229736, 3.7291226387023926, 3.725144386291504, 2.8106842041015625, 4.594696521759033, 1.8981372117996216, 3.69520902633667, 1.891549825668335, 2.791640520095825, 1.885064959526062, 1.8839576244354248, 1.8832136392593384, 2.7569854259490967, 2.756887912750244, 1.881144404411316, 1.879844069480896, 1.8793319463729858, 4.478311061859131, 2.753734827041626, 3.602871894836426, 3.588930606842041, 3.575958251953125, 3.560340404510498, 6.667559623718262, 11.577010154724121, 6.509986400604248, 2.7348620891571045, 2.725196123123169, 2.7237024307250977, 26.220035552978516, 7.852678298950195, 2.70625638961792, 2.7014412879943848, 365.0567321777344, 17.030311584472656, 2.696606397628784, 2.688706874847412, 43.97325897216797, 199.6487274169922, 32.58550262451172, 217.15618896484375, 21.26175880432129, 15.15380859375, 172.2843780517578, 6.387635231018066, 138.2644500732422, 120.1365737915039, 120.39646911621094, 22.13844871520996, 63.45079803466797, 110.2572250366211, 121.4246826171875, 177.80638122558594, 156.39578247070312, 62.177433013916016, 156.28709411621094, 124.12377166748047, 127.72860717773438, 134.29690551757812, 124.03095245361328, 59.59676742553711, 59.130714416503906, 97.00454711914062, 83.61185455322266, 172.2382049560547, 84.10005950927734, 130.21517944335938, 76.66419219970703, 137.82986450195312, 147.4855194091797, 148.0013427734375, 105.10253143310547, 100.77503967285156, 103.69426727294922, 117.81393432617188, 108.23082733154297, 90.02350616455078, 93.56675720214844, 100.59516906738281, 96.81153106689453, 3.009537935256958, 2.005121946334839, 2.0051674842834473, 2.005188465118408, 2.005326986312866, 2.005150318145752, 2.0052833557128906, 1.000203251838684, 1.0002601146697998, 1.0002411603927612, 1.0002011060714722, 1.0002182722091675, 1.0002285242080688, 1.0002143383026123, 1.0002028942108154, 1.000238060951233, 1.0001301765441895, 1.0001877546310425, 1.000260591506958, 1.0002398490905762, 1.0000717639923096, 1.0001757144927979, 1.0001978874206543, 1.0001939535140991, 1.0002514123916626, 1.000169277191162, 1.0001920461654663, 1.0002422332763672, 1.000174880027771, 1.0002034902572632, 1.0002493858337402, 1.0002542734146118, 1.0002498626708984, 1.0002247095108032, 1.0002270936965942, 1.0002222061157227, 1.0002080202102661, 1.000224232673645, 1.0002254247665405, 1.0002174377441406, 1.0001941919326782, 1.0002045631408691, 1.0002139806747437, 1.9872794151306152, 1.0002174377441406, 3.87310528755188, 1.968117594718933, 3.832953453063965, 3.8164162635803223, 2.8945534229278564, 2.8913118839263916, 1.9572694301605225, 3.7795212268829346, 3.7562386989593506, 3.725367546081543, 2.8420467376708984, 3.7194554805755615, 3.7111594676971436, 2.8292415142059326, 2.829819679260254, 1.9304667711257935, 1.927889108657837, 2.8249192237854004, 2.822056531906128, 1.926226258277893, 4.556200981140137, 1.9235143661499023, 2.7968766689300537, 2.7890419960021973, 3.6182079315185547, 3.5266547203063965, 8.305119514465332, 2.756690740585327, 2.7561662197113037, 19.48115348815918, 2.748194694519043, 2.744568109512329, 4.068370819091797, 72.74485778808594, 2.739596366882324, 265.0638427734375, 124.52320861816406, 73.5188980102539, 62.70820617675781, 151.30889892578125, 80.45881652832031, 59.403663635253906, 86.80694580078125, 102.69110107421875, 113.9526138305664, 163.2024383544922, 49.51194381713867, 141.60739135742188, 49.67079162597656, 29.518951416015625, 100.97840881347656, 81.41162109375, 99.77266693115234, 73.11870574951172, 67.92716979980469, 115.4375, 55.48549270629883, 76.80863189697266, 115.66976165771484, 77.52291870117188, 87.12769317626953, 100.85661315917969, 125.2565689086914, 82.59048461914062, 105.22747039794922, 91.8507080078125, 110.4578628540039, 88.05992889404297, 98.18669891357422, 75.32178497314453, 73.47991180419922, 1.0043681859970093, 1.004305124282837, 1.0043601989746094, 1.0043309926986694, 1.004336953163147, 1.0043416023254395, 1.0043292045593262, 1.0043314695358276, 1.0043258666992188, 1.004365086555481, 1.0043543577194214, 1.0043392181396484, 1.004384994506836, 1.0043119192123413, 1.0043102502822876, 1.004392147064209, 1.004340410232544, 1.0043376684188843, 1.0043450593948364, 1.0043381452560425, 1.0043587684631348, 1.004354476928711, 1.004333257675171, 1.0043787956237793, 1.0041536092758179, 1.0043342113494873, 1.0043901205062866, 1.0043561458587646, 1.0043375492095947, 1.0042710304260254, 1.0043803453445435, 1.0043673515319824, 1.0043548345565796, 1.0043575763702393, 1.004333257675171, 1.0043362379074097, 1.9677047729492188, 1.9624073505401611, 1.9590818881988525, 1.9584026336669922, 2.8730711936950684, 1.9470432996749878, 2.8623268604278564, 1.945059895515442, 2.842885732650757, 3.7252254486083984, 1.9401495456695557, 4.585746765136719, 1.9380877017974854, 3.703665018081665, 3.6833741664886475, 1.9225059747695923, 1.9230718612670898, 1.9217381477355957, 1.9177387952804565, 2.7775468826293945, 1.9088361263275146, 1.9061099290847778, 1.9050997495651245, 1.9027198553085327, 1.9020642042160034, 3.5932135581970215, 1.9020044803619385, 1.898315191268921, 1.8982104063034058, 1.895979642868042, 2.725851535797119, 10.507853507995605, 3.480368137359619, 6.52171516418457, 18.833433151245117, 19.218219757080078, 52.837371826171875, 123.48564147949219, 4.44264554977417, 163.46316528320312, 101.67925262451172, 62.891109466552734, 67.96793365478516, 134.8909912109375, 163.3939208984375, 69.07176208496094, 31.0460205078125, 8.730589866638184, 138.5819091796875, 63.00791931152344, 53.07775115966797, 70.05018615722656, 51.64890670776367, 30.362592697143555, 133.1741180419922, 26.156494140625, 69.69398498535156, 115.68135070800781, 40.1658821105957, 129.04458618164062, 74.05442810058594, 50.6527214050293, 60.84865951538086, 68.62217712402344, 67.98839569091797, 71.5920639038086, 91.01361846923828, 58.656883239746094, 98.41999816894531, 82.40812683105469, 63.09134292602539, 92.60101318359375, 80.86211395263672, 98.69873046875, 77.25353240966797, 92.3818130493164, 76.94136047363281, 77.1150131225586, 92.81741333007812, 73.08355712890625, 71.93026733398438, 71.56497192382812, 69.10319519042969, 1.0196162462234497, 1.0195531845092773, 1.0195624828338623, 1.0194880962371826, 1.0196127891540527, 1.019636631011963, 1.019497036933899, 1.0196102857589722, 1.0195531845092773, 1.0195600986480713, 1.0195887088775635, 1.0195953845977783, 1.0195926427841187, 1.01962411403656, 1.019547700881958, 1.0196216106414795, 1.0195002555847168, 1.0196058750152588, 1.0195889472961426, 1.0195271968841553, 1.019399881362915, 1.0195173025131226, 1.0196009874343872, 1.0196276903152466, 1.0196417570114136, 1.0196114778518677, 1.0194896459579468, 1.0194779634475708, 1.0196195840835571, 1.0195552110671997, 1.0196306705474854, 1.0196293592453003, 1.0196175575256348, 1.0196133852005005, 1.0196125507354736, 1.0195930004119873, 1.0195832252502441, 1.0195810794830322, 1.0195924043655396, 1.0195813179016113, 1.0195690393447876, 1.0195635557174683, 1.0195657014846802, 1.9840742349624634, 2.916022777557373, 1.9797296524047852, 1.9701755046844482, 2.8822457790374756, 1.966416597366333, 2.8710403442382812, 1.9603545665740967, 1.9579201936721802, 1.9584767818450928, 3.731186866760254, 1.9539437294006348, 1.9543859958648682, 1.9502602815628052, 1.9432063102722168, 1.939700722694397, 1.93428635597229, 2.7846462726593018, 1.9135154485702515, 1.9227702617645264, 1.9195730686187744, 1.9149363040924072, 1.912712812423706, 1.9090250730514526, 1.9059176445007324, 1.9057499170303345, 1.9023886919021606, 1.8938300609588623, 1.8930059671401978, 1.884789228439331, 6.233128547668457, 3.4219462871551514, 2.6742660999298096, 95.09947204589844, 18.173856735229492, 2.633344888687134, 57.34071731567383, 114.07121276855469, 45.19976806640625, 112.78461456298828, 32.4249382019043, 126.22833251953125, 59.47760772705078, 16.10016441345215, 34.26966094970703, 7.452215671539307, 69.76832580566406, 6.946635723114014, 138.18992614746094, 37.48972702026367, 20.302913665771484, 36.90636444091797, 24.60013771057129, 57.979164123535156, 150.09686279296875, 98.26303100585938, 165.1845703125, 19.105302810668945, 115.80490112304688, 108.51547241210938, 139.11038208007812, 42.18239212036133, 99.60527801513672, 78.2821273803711, 37.966129302978516, 94.76275634765625, 53.82272720336914, 48.801361083984375, 116.14518737792969, 73.77394104003906, 86.42932891845703, 112.7957992553711, 85.66948699951172, 99.58246612548828, 99.41564178466797, 65.0538558959961, 66.38882446289062, 83.18001556396484, 82.01303100585938, 77.67462158203125, 91.45391082763672, 87.94816589355469, 95.0766830444336, 71.98839569091797, 70.03775024414062], \"Term\": [\"speak\", \"english\", \"french\", \"cottage\", \"villa\", \"much\", \"area\", \"bite\", \"staff\", \"lodge\", \"site\", \"le\", \"find\", \"restaurant\", \"go\", \"activity\", \"try\", \"bois\", \"help\", \"lot\", \"park\", \"price\", \"time\", \"visit\", \"stay\", \"amp\", \"tire\", \"kid\", \"day\", \"euro\", \"absolutley\", \"install\", \"vrry\", \"rag\", \"csn\", \"20yrs\", \"expensiveswimming\", \"escaping\", \"paintingstaff\", \"conce\", \"unsatisfactory\", \"prettythe\", \"specification\", \"thingsa\", \"facelift\", \"compass\", \"strict\", \"competitively\", \"enabled\", \"celebrating\", \"eatingwe\", \"u20ac1600\", \"discourage\", \"flyer\", \"referring\", \"illage\", \"goto\", \"illness\", \"againand\", \"asap\", \"daycant\", \"renewedexcellent\", \"needrestaurants\", \"20minute\", \"hitthe\", \"calaisneeds\", \"hedging\", \"declinedwe\", \"expectedaccomodation\", \"reconsider\", \"etcoverall\", \"mondaythursday\", \"sfe\", \"e1200\", \"swmming\", \"liking\", \"smelling\", \"flatter\", \"dampness\", \"renewed\", \"ideally\", \"parcswe\", \"indicate\", \"funthe\", \"payed\", \"uninviting\", \"utterly\", \"u00a31200\", \"modernising\", \"conveniently\", \"jeep\", \"tomorrow\", \"smallest\", \"rudely\", \"screaming\", \"overcrowded\", \"incorrect\", \"daytime\", \"friendlier\", \"attire\", \"unwilling\", \"unused\", \"silly\", \"parlour\", \"vegetable\", \"hallway\", \"allowing\", \"lembarcadere\", \"gluten\", \"hindsight\", \"attendant\", \"relate\", \"bomb\", \"slashed\", \"hung\", \"keyed\", \"worrying\", \"six\", \"quot\", \"baby\", \"approach\", \"cottage\", \"really\", \"swimming\", \"dirty\", \"cleaning\", \"premium\", \"spent\", \"awesome\", \"shade\", \"time\", \"people\", \"bit\", \"meal\", \"stayed\", \"arrived\", \"door\", \"year\", \"took\", \"need\", \"bike\", \"child\", \"kid\", \"kitchen\", \"daughter\", \"activity\", \"also\", \"loved\", \"although\", \"made\", \"park\", \"pool\", \"centre\", \"nice\", \"day\", \"area\", \"around\", \"well\", \"clean\", \"lot\", \"family\", \"could\", \"back\", \"restaurant\", \"place\", \"food\", \"stay\", \"staff\", \"lake\", \"recreation\", \"harve\", \"married\", \"slovenly\", \"thoughlovely\", \"problemonly\", \"foodexcellent\", \"emplacement\", \"wonderfull\", \"familly\", \"beneficial\", \"effortlessly\", \"configurationthe\", \"coped\", \"familykids\", \"windowsextremely\", \"holidayeverything\", \"villagetown\", \"moneybetter\", \"persnickety\", \"3108\", \"burgled\", \"tripping\", \"thereoverall\", \"oldfor\", \"enabling\", \"allyoucan\", \"pleasanti\", \"168\", \"formulaic\", \"effortlessley\", \"ata\", \"equivalrnts\", \"dusk\", \"stockedthe\", \"changingwalking\", \"ambiance\", \"effortlessleywe\", \"inly\", \"spotlessley\", \"extrau2019s\", \"fantasticthe\", \"tucked\", \"cleanloads\", \"2yrs\", \"relieved\", \"staydefinitely\", \"surroundingsthere\", \"serveyourself\", \"sprintsummer\", \"weu2019d\", \"naked\", \"heron\", \"u20ac49\", \"mystery\", \"shirt\", \"skylight\", \"ingres\", \"syringe\", \"wellness\", \"u20ac178\", \"west\", \"copyu\", \"memorable\", \"physical\", \"flying\", \"alright\", \"wrap\", \"shoddy\", \"gap\", \"decorate\", \"arrange\", \"replacing\", \"steam\", \"collect\", \"incident\", \"coot\", \"staywe\", \"restraunt\", \"toddler\", \"barbecue\", \"esp\", \"tofrom\", \"cottage\", \"cater\", \"dash\", \"1hr\", \"sauna\", \"area\", \"damp\", \"pool\", \"wear\", \"uk\", \"staff\", \"faulty\", \"holiday\", \"lake\", \"bike\", \"tennis\", \"enjoy\", \"around\", \"centre\", \"park\", \"child\", \"main\", \"restaurant\", \"family\", \"stay\", \"also\", \"clean\", \"fantastic\", \"away\", \"old\", \"vip\", \"time\", \"play\", \"really\", \"accommodation\", \"day\", \"kid\", \"activity\", \"place\", \"week\", \"need\", \"lot\", \"could\", \"expensive\", \"year\", \"food\", \"well\", \"charactersreviews\", \"movingwould\", \"horrific\", \"kempervanan\", \"congestion\", \"insesant\", \"youu2019d\", \"othet\", \"englandgreat\", \"revisit\", \"luttle\", \"cinema\", \"joythe\", \"restnice\", \"feugo\", \"810yrs\", \"competency\", \"u00a32300\", \"and2\", \"u20ac790\", \"rejuvenate\", \"starndads\", \"organizedthe\", \"bead\", \"alternate\", \"parallel\", \"12had\", \"crowdy\", \"politeshop\", \"beforestaff\", \"affair\", \"holidaynice\", \"poniesthe\", \"blip\", \"foodfabulous\", \"swimmingpools\", \"paced\", \"septemberrecommend\", \"impeccable\", \"dothere\", \"recover\", \"patronised\", \"pur\", \"allotted\", \"riddle\", \"infested\", \"heavenly\", \"somebody\", \"laser\", \"ticked\", \"charming\", \"shalet\", \"daillette\", \"scooter\", \"thrilled\", \"praise\", \"gendarmerie\", \"overcharged\", \"multi\", \"centerparks\", \"aquatic\", \"international\", \"sold\", \"reunion\", \"crok\", \"contrary\", \"bumpy\", \"redeeming\", \"daysthe\", \"844\", \"requested\", \"improved\", \"canoe\", \"failure\", \"security\", \"reccommend\", \"slab\", \"youu2019re\", \"location\", \"activated\", \"cottage\", \"family\", \"amp\", \"better\", \"restaurant\", \"quite\", \"still\", \"parc\", \"lake\", \"food\", \"time\", \"weather\", \"kid\", \"house\", \"resort\", \"could\", \"back\", \"well\", \"water\", \"facility\", \"staff\", \"stayed\", \"expensive\", \"day\", \"like\", \"place\", \"lot\", \"pool\", \"week\", \"child\", \"holiday\", \"activity\", \"clean\", \"park\", \"site\", \"stay\", \"goof\", \"jamboree\", \"fingernail\", \"cyclepaths\", \"latout\", \"cough\", \"reputation\", \"activitiesfood\", \"expensiveeverything\", \"southern\", \"repeated\", \"gouge\", \"10814\", \"astonishing\", \"vendu00e9ethe\", \"oldnot\", \"servicewe\", \"fixedit\", \"rafter\", \"businessunderstaffed\", \"siting\", \"maintainedgeneral\", \"chilrens\", \"90u20ac\", \"goodthis\", \"entertainmentactivities\", \"competitor\", \"purse\", \"compromise\", \"maintainence\", \"jaccuzi\", \"everywherefood\", \"resolvedpleasant\", \"impacted\", \"8081\", \"thereprepare\", \"digging\", \"moundo\", \"hollandwe\", \"maintenend\", \"register\", \"farmi\", \"tiredthe\", \"restrict\", \"official\", \"kitchenette\", \"13great\", \"refresh\", \"campus\", \"generous\", \"overgrow\", \"clamp\", \"waved\", \"grassed\", \"casualty\", \"developed\", \"anybody\", \"hunting\", \"coke\", \"enthusiasm\", \"voie\", \"frustrated\", \"focal\", \"senseo\", \"284\", \"valley\", \"washer\", \"cross\", \"field\", \"earlier\", \"yet\", \"boisfrancs\", \"lodge\", \"site\", \"express\", \"area\", \"villa\", \"le\", \"euro\", \"lot\", \"park\", \"visit\", \"safe\", \"toll\", \"day\", \"open\", \"value\", \"take\", \"go\", \"plus\", \"activity\", \"customer\", \"aqua\", \"restaurant\", \"didnt\", \"pool\", \"expensive\", \"look\", \"however\", \"hour\", \"price\", \"english\", \"stay\", \"use\", \"staff\", \"nice\", \"car\", \"child\", \"food\", \"kid\", \"well\", \"time\", \"also\", \"really\", \"cottage\", \"clean\", \"holiday\", \"could\", \"week\", \"flatly\", \"englishgood\", \"riot\", \"replicate\", \"alsowill\", \"courtstennis\", \"prison\", \"auditorium\", \"abd\", \"quizz\", \"companyplenty\", \"downdamp\", \"toget\", \"famliy\", \"headboard\", \"lovelytoo\", \"repeatedely\", \"u20acmin\", \"helpcompared\", \"insisted\", \"hedgehog\", \"badmington\", \"denied\", \"pretend\", \"aquo\", \"rewind\", \"happygood\", \"holydays\", \"memebers\", \"callback\", \"dexpire\", \"indifference\", \"cottagenon\", \"limitedno\", \"wich\", \"enclosure\", \"signagestaff\", \"023\", \"orientated\", \"ibm\", \"thru\", \"yetalways\", \"pafk\", \"establish\", \"hotbox\", \"winner\", \"learning\", \"laventure\", \"humongous\", \"method\", \"shack\", \"representative\", \"1992\", \"earth\", \"shorted\", \"brainer\", \"teach\", \"franceu2026\", \"1980\", \"pampering\", \"fody\", \"feral\", \"east\", \"prestige\", \"parkour\", \"severely\", \"wwi\", \"mundi\", \"condensation\", \"allowance\", \"569\", \"dreux\", \"summon\", \"vary\", \"hdmi\", \"relation\", \"speak\", \"franc\", \"transform\", \"bite\", \"english\", \"help\", \"french\", \"bois\", \"much\", \"try\", \"turn\", \"tire\", \"stopped\", \"find\", \"tall\", \"staff\", \"know\", \"easter\", \"happy\", \"spa\", \"eat\", \"activity\", \"little\", \"time\", \"wire\", \"also\", \"stay\", \"kid\", \"love\", \"nice\", \"villa\", \"swim\", \"holiday\", \"france\", \"think\", \"park\", \"like\", \"well\", \"pool\", \"could\", \"restaurant\", \"day\", \"book\", \"price\", \"clean\", \"food\", \"place\", \"child\", \"really\", \"cottage\", \"need\", \"lot\"], \"Total\": [216.0, 353.0, 360.0, 1261.0, 356.0, 448.0, 664.0, 144.0, 652.0, 137.0, 433.0, 194.0, 240.0, 667.0, 185.0, 759.0, 170.0, 74.0, 111.0, 567.0, 761.0, 325.0, 876.0, 240.0, 526.0, 243.0, 83.0, 747.0, 673.0, 217.0, 2.0113651752471924, 1.0020606517791748, 1.0021624565124512, 1.0021052360534668, 1.0020902156829834, 1.002134919166565, 1.0020880699157715, 1.0021333694458008, 1.0021151304244995, 1.0021153688430786, 1.00208580493927, 1.002044439315796, 1.0020557641983032, 1.0020699501037598, 1.0021228790283203, 1.0020729303359985, 1.002155065536499, 1.0020242929458618, 1.0019657611846924, 1.0020688772201538, 1.0020546913146973, 1.0021559000015259, 1.0021408796310425, 1.0020900964736938, 1.0021353960037231, 1.0020947456359863, 1.0020874738693237, 1.0020982027053833, 1.0020381212234497, 1.002155065536499, 1.0021412372589111, 1.002131700515747, 1.0021213293075562, 1.002119541168213, 1.0021263360977173, 1.0021297931671143, 1.0021222829818726, 1.0021071434020996, 1.002111554145813, 1.002110242843628, 1.0021140575408936, 1.0021090507507324, 1.0021077394485474, 1.002103328704834, 1.0020967721939087, 2.0100324153900146, 3.018784284591675, 2.0109848976135254, 2.0110855102539062, 10.067604064941406, 5.030859470367432, 3.016740083694458, 3.018397569656372, 4.020242214202881, 2.00980806350708, 2.010911464691162, 2.0098798274993896, 2.0101466178894043, 2.0098299980163574, 3.01833176612854, 4.022655963897705, 4.022895812988281, 3.017967939376831, 2.01049542427063, 3.0167880058288574, 2.0095877647399902, 3.0164506435394287, 2.010801076889038, 2.0099120140075684, 2.0103020668029785, 2.0106115341186523, 2.010223627090454, 3.016806125640869, 3.01609206199646, 4.022083282470703, 3.016115188598633, 5.024061679840088, 6.030427932739258, 3.0158514976501465, 4.015785217285156, 4.021058082580566, 3.0138654708862305, 3.016818046569824, 3.0147180557250977, 3.0152747631073, 3.0137414932250977, 4.015303134918213, 10.06829833984375, 315.7056884765625, 106.51091003417969, 14.06665325164795, 1261.989501953125, 597.96240234375, 222.90057373046875, 177.29054260253906, 64.24374389648438, 186.49195861816406, 103.44256591796875, 15.971365928649902, 8.008805274963379, 876.3335571289062, 238.79428100585938, 319.0836181640625, 99.29856872558594, 219.35870361328125, 92.39649963378906, 122.86112976074219, 399.3315124511719, 152.8948516845703, 452.57861328125, 430.70965576171875, 643.2808837890625, 747.950439453125, 230.21609497070312, 94.36568450927734, 759.3102416992188, 566.9942626953125, 207.06455993652344, 256.7855529785156, 123.40162658691406, 761.8084716796875, 796.5162353515625, 453.75341796875, 487.6126708984375, 673.2615966796875, 664.561279296875, 394.6252746582031, 503.309326171875, 509.35211181640625, 567.7901611328125, 489.4512939453125, 499.8127746582031, 370.6697692871094, 667.4367065429688, 451.5173645019531, 504.0472412109375, 526.7711791992188, 652.4322509765625, 426.376220703125, 0.9680160284042358, 0.9679750800132751, 0.9679167866706848, 0.9679974317550659, 0.9679102301597595, 0.9679364562034607, 0.9679725170135498, 0.9680317640304565, 0.9679499268531799, 0.9680084586143494, 0.9680252075195312, 0.967994749546051, 0.9679734706878662, 0.968000054359436, 0.968026340007782, 0.9679978489875793, 0.9680067300796509, 0.968000054359436, 0.9679660201072693, 0.9680191278457642, 0.9679527282714844, 0.9679399132728577, 0.9679336547851562, 0.9679192900657654, 0.9680019617080688, 0.9678553938865662, 0.9679833054542542, 0.9680114984512329, 0.9679697155952454, 0.9679850339889526, 1.9420557022094727, 1.9420721530914307, 1.9420405626296997, 1.9419811964035034, 1.9419989585876465, 1.9420369863510132, 1.942051649093628, 1.942020297050476, 1.941949725151062, 1.9419770240783691, 1.9419087171554565, 1.9419550895690918, 1.9422582387924194, 0.9680147767066956, 0.9680208563804626, 0.9680206775665283, 0.9680123925209045, 0.9680126905441284, 0.9680089354515076, 0.968006432056427, 5.843267917633057, 3.8925652503967285, 3.89263653755188, 2.919177293777466, 4.870981693267822, 1.9430330991744995, 3.8936767578125, 1.9436061382293701, 2.9185612201690674, 1.9433146715164185, 1.9441606998443604, 1.9436548948287964, 2.9043524265289307, 2.9049880504608154, 1.9430464506149292, 1.9435290098190308, 1.9435975551605225, 4.870922565460205, 2.919546604156494, 3.898151397705078, 3.8936455249786377, 3.8965225219726562, 3.894317865371704, 7.815549850463867, 14.694830894470215, 7.820419788360596, 2.919177770614624, 2.920046091079712, 2.9198031425476074, 47.45314025878906, 10.80745792388916, 2.921100378036499, 2.9194836616516113, 1261.989501953125, 28.674068450927734, 2.920480489730835, 2.9142508506774902, 96.37672424316406, 664.561279296875, 69.36499786376953, 796.5162353515625, 40.54835891723633, 26.706722259521484, 652.4322509765625, 8.832893371582031, 510.99310302734375, 426.376220703125, 430.70965576171875, 45.58636474609375, 186.44435119628906, 394.6252746582031, 453.75341796875, 761.8084716796875, 643.2808837890625, 185.47254943847656, 667.4367065429688, 489.4512939453125, 526.7711791992188, 566.9942626953125, 509.35211181640625, 184.59449768066406, 184.38916015625, 374.1120910644531, 305.97576904296875, 876.3335571289062, 310.74658203125, 597.96240234375, 274.68017578125, 673.2615966796875, 747.950439453125, 759.3102416992188, 451.5173645019531, 423.17913818359375, 452.57861328125, 567.7901611328125, 499.8127746582031, 359.00408935546875, 399.3315124511719, 504.0472412109375, 503.309326171875, 3.009939193725586, 2.005523204803467, 2.005568742752075, 2.005589723587036, 2.005728244781494, 2.00555157661438, 2.0056846141815186, 1.000604510307312, 1.0006613731384277, 1.0006424188613892, 1.0006023645401, 1.0006195306777954, 1.0006297826766968, 1.0006155967712402, 1.0006041526794434, 1.0006393194198608, 1.0005314350128174, 1.0005890130996704, 1.000661849975586, 1.000641107559204, 1.0004730224609375, 1.0005769729614258, 1.0005991458892822, 1.000595211982727, 1.0006526708602905, 1.00057053565979, 1.0005933046340942, 1.0006434917449951, 1.000576138496399, 1.0006047487258911, 1.0006506443023682, 1.0006555318832397, 1.0006511211395264, 1.0006259679794312, 1.0006283521652222, 1.0006234645843506, 1.000609278678894, 1.000625491142273, 1.0006266832351685, 1.0006186962127686, 1.0005954504013062, 1.000605821609497, 1.0006152391433716, 2.004892349243164, 1.0006186962127686, 4.005375862121582, 2.005251884460449, 4.012814521789551, 4.012321949005127, 3.008960485458374, 3.008282423019409, 2.0054917335510254, 4.009748935699463, 4.008703231811523, 4.007950782775879, 3.006588935852051, 4.00947380065918, 4.005798816680908, 3.0060222148895264, 3.0105254650115967, 2.0046489238739014, 2.002366065979004, 3.008411407470703, 3.0054080486297607, 2.0042078495025635, 5.009852409362793, 2.004944324493408, 3.0023300647735596, 3.007061243057251, 4.0116190910339355, 3.974475860595703, 11.038918495178223, 3.0055224895477295, 3.005871534347534, 36.025054931640625, 3.005976915359497, 3.0053887367248535, 5.013062477111816, 220.3323516845703, 3.010509967803955, 1261.989501953125, 489.4512939453125, 243.79615783691406, 202.44204711914062, 667.4367065429688, 290.58465576171875, 194.4810333251953, 329.29083251953125, 426.376220703125, 504.0472412109375, 876.3335571289062, 168.49620056152344, 747.950439453125, 174.41815185546875, 83.10159301757812, 499.8127746582031, 370.6697692871094, 503.309326171875, 327.7773132324219, 293.7807922363281, 652.4322509765625, 219.35870361328125, 359.00408935546875, 673.2615966796875, 371.44207763671875, 451.5173645019531, 567.7901611328125, 796.5162353515625, 423.17913818359375, 643.2808837890625, 510.99310302734375, 759.3102416992188, 509.35211181640625, 761.8084716796875, 433.31646728515625, 526.7711791992188, 1.004768967628479, 1.0047059059143066, 1.004760980606079, 1.0047317743301392, 1.0047377347946167, 1.0047423839569092, 1.004729986190796, 1.0047322511672974, 1.0047266483306885, 1.0047658681869507, 1.0047551393508911, 1.0047399997711182, 1.0047857761383057, 1.004712700843811, 1.0047110319137573, 1.0047929286956787, 1.0047411918640137, 1.004738450050354, 1.0047458410263062, 1.0047389268875122, 1.0047595500946045, 1.0047552585601807, 1.0047340393066406, 1.004779577255249, 1.0045543909072876, 1.004734992980957, 1.0047909021377563, 1.0047569274902344, 1.0047383308410645, 1.0046718120574951, 1.0047811269760132, 1.0047681331634521, 1.0047556161880493, 1.004758358001709, 1.0047340393066406, 1.0047370195388794, 2.012883424758911, 2.012180805206299, 2.012305974960327, 2.012030601501465, 3.0201516151428223, 2.0127549171447754, 3.0213892459869385, 2.011960506439209, 3.0194385051727295, 4.028555393218994, 2.012698173522949, 5.028489112854004, 2.0119423866271973, 4.028769493103027, 4.018246173858643, 2.005206823348999, 2.0117547512054443, 2.0125949382781982, 2.0108439922332764, 3.018385171890259, 2.0121524333953857, 2.011805772781372, 2.0122861862182617, 2.0103344917297363, 2.0109174251556396, 4.023805618286133, 2.0120701789855957, 2.0092010498046875, 2.011807680130005, 2.0097789764404297, 3.0134716033935547, 14.054479598999023, 4.021621227264404, 9.046043395996094, 34.083839416503906, 37.129066467285156, 137.12802124023438, 433.31646728515625, 6.023952960968018, 664.561279296875, 356.93310546875, 194.9817352294922, 217.58644104003906, 567.7901611328125, 761.8084716796875, 240.93621826171875, 82.19385528564453, 15.026947021484375, 673.2615966796875, 230.8169708251953, 191.4724578857422, 282.7394104003906, 185.33753967285156, 91.0777587890625, 759.3102416992188, 74.11732482910156, 309.8726806640625, 667.4367065429688, 141.39999389648438, 796.5162353515625, 359.00408935546875, 204.90859985351562, 271.9948425292969, 328.8774108886719, 325.8363952636719, 353.35809326171875, 526.7711791992188, 261.42633056640625, 652.4322509765625, 487.6126708984375, 305.31610107421875, 643.2808837890625, 504.0472412109375, 747.950439453125, 503.309326171875, 876.3335571289062, 566.9942626953125, 597.96240234375, 1261.989501953125, 509.35211181640625, 510.99310302734375, 499.8127746582031, 423.17913818359375, 1.0200155973434448, 1.0199525356292725, 1.0199618339538574, 1.0198874473571777, 1.0200121402740479, 1.020035982131958, 1.019896388053894, 1.0200096368789673, 1.0199525356292725, 1.0199594497680664, 1.0199880599975586, 1.0199947357177734, 1.0199919939041138, 1.0200234651565552, 1.0199470520019531, 1.0200209617614746, 1.019899606704712, 1.020005226135254, 1.0199882984161377, 1.0199265480041504, 1.0197992324829102, 1.0199166536331177, 1.0200003385543823, 1.0200270414352417, 1.0200411081314087, 1.0200108289718628, 1.019888997077942, 1.019877314567566, 1.0200189352035522, 1.0199545621871948, 1.0200300216674805, 1.0200287103652954, 1.0200169086456299, 1.0200127363204956, 1.0200119018554688, 1.0199923515319824, 1.0199825763702393, 1.0199804306030273, 1.0199917554855347, 1.0199806690216064, 1.0199683904647827, 1.0199629068374634, 1.0199650526046753, 2.0420799255371094, 3.0637362003326416, 2.0408833026885986, 2.038863182067871, 3.061061382293701, 2.041872501373291, 3.0603647232055664, 2.040851354598999, 2.04017972946167, 2.041208505630493, 4.0775465965271, 2.0403623580932617, 2.040982961654663, 2.040262222290039, 2.040335178375244, 2.0406363010406494, 2.041034460067749, 3.0590648651123047, 2.0288548469543457, 2.0404787063598633, 2.0379691123962402, 2.038173198699951, 2.038689613342285, 2.0396311283111572, 2.0373618602752686, 2.0378732681274414, 2.0388076305389404, 2.036475896835327, 2.038123846054077, 2.037930727005005, 8.126126289367676, 4.066006660461426, 3.0546183586120605, 216.22262573242188, 32.377750396728516, 3.0475821495056152, 144.90673828125, 353.35809326171875, 111.09795379638672, 360.239501953125, 74.52281188964844, 448.8323669433594, 170.12762451171875, 31.285085678100586, 83.727783203125, 12.142263412475586, 240.7882843017578, 11.16366195678711, 652.4322509765625, 110.7652587890625, 48.219871520996094, 109.77430725097656, 63.141021728515625, 205.95559692382812, 759.3102416992188, 426.1443176269531, 876.3335571289062, 45.46949768066406, 566.9942626953125, 526.7711791992188, 747.950439453125, 141.77870178222656, 487.6126708984375, 356.93310546875, 125.38255310058594, 510.99310302734375, 220.78907775878906, 191.50794982910156, 761.8084716796875, 371.44207763671875, 503.309326171875, 796.5162353515625, 499.8127746582031, 667.4367065429688, 673.2615966796875, 312.8193054199219, 325.8363952636719, 509.35211181640625, 504.0472412109375, 451.5173645019531, 643.2808837890625, 597.96240234375, 1261.989501953125, 452.57861328125, 567.7901611328125], \"loglift\": [30.0, 29.0, 28.0, 27.0, 26.0, 25.0, 24.0, 23.0, 22.0, 21.0, 20.0, 19.0, 18.0, 17.0, 16.0, 15.0, 14.0, 13.0, 12.0, 11.0, 10.0, 9.0, 8.0, 7.0, 6.0, 5.0, 4.0, 3.0, 2.0, 1.0, 1.2603000402450562, 1.26010000705719, 1.26010000705719, 1.26010000705719, 1.26010000705719, 1.26010000705719, 1.26010000705719, 1.26010000705719, 1.26010000705719, 1.26010000705719, 1.26010000705719, 1.26010000705719, 1.26010000705719, 1.26010000705719, 1.26010000705719, 1.26010000705719, 1.26010000705719, 1.26010000705719, 1.26010000705719, 1.26010000705719, 1.26010000705719, 1.26010000705719, 1.26010000705719, 1.26010000705719, 1.26010000705719, 1.26010000705719, 1.26010000705719, 1.26010000705719, 1.26010000705719, 1.26010000705719, 1.26010000705719, 1.26010000705719, 1.26010000705719, 1.26010000705719, 1.26010000705719, 1.26010000705719, 1.26010000705719, 1.26010000705719, 1.26010000705719, 1.26010000705719, 1.26010000705719, 1.26010000705719, 1.26010000705719, 1.26010000705719, 1.26010000705719, 1.2513999938964844, 1.2430000305175781, 1.2510000467300415, 1.2482000589370728, 1.211899995803833, 1.219599962234497, 1.2305999994277954, 1.2304999828338623, 1.2177000045776367, 1.236799955368042, 1.236199975013733, 1.2339999675750732, 1.232699990272522, 1.232300043106079, 1.215000033378601, 1.2001999616622925, 1.198099970817566, 1.211899995803833, 1.2315000295639038, 1.2108999490737915, 1.2307000160217285, 1.2101999521255493, 1.2299000024795532, 1.2294000387191772, 1.229099988937378, 1.2280999422073364, 1.2280000448226929, 1.2072999477386475, 1.2065999507904053, 1.1885000467300415, 1.205399990081787, 1.173200011253357, 1.1562000513076782, 1.2021000385284424, 1.174299955368042, 1.1735999584197998, 1.197700023651123, 1.1972999572753906, 1.1958999633789062, 1.194599986076355, 1.194200038909912, 1.1578999757766724, 1.0341999530792236, 0.5299000144004822, 0.6306999921798706, 0.9534000158309937, 0.21580000221729279, 0.33059999346733093, 0.45210000872612, 0.4876999855041504, 0.669700026512146, 0.4690000116825104, 0.5493000149726868, 0.8985999822616577, 1.0296000242233276, 0.13130000233650208, 0.3700999915599823, 0.31029999256134033, 0.5210999846458435, 0.3458000123500824, 0.5256999731063843, 0.4609000086784363, 0.20010000467300415, 0.40290001034736633, 0.16140000522136688, 0.16930000483989716, 0.08009999990463257, 0.04149999842047691, 0.304500013589859, 0.5, 0.010599999688565731, 0.07440000027418137, 0.31470000743865967, 0.2515000104904175, 0.4207000136375427, -0.04600000008940697, -0.061900001019239426, 0.0820000022649765, 0.05730000138282776, -0.04899999871850014, -0.05719999969005585, 0.08550000190734863, 0.002400000113993883, -0.023900000378489494, -0.11010000109672546, -0.04859999939799309, -0.060600001364946365, 0.06859999895095825, -0.26919999718666077, -0.054499998688697815, -0.12099999934434891, -0.1696999967098236, -0.36739999055862427, -0.041999999433755875, 1.499500036239624, 1.499500036239624, 1.499500036239624, 1.499500036239624, 1.499500036239624, 1.499500036239624, 1.499500036239624, 1.499500036239624, 1.499500036239624, 1.499500036239624, 1.499500036239624, 1.499500036239624, 1.499500036239624, 1.499500036239624, 1.499500036239624, 1.499500036239624, 1.499500036239624, 1.499500036239624, 1.499500036239624, 1.499500036239624, 1.499500036239624, 1.499500036239624, 1.499500036239624, 1.499500036239624, 1.499500036239624, 1.499500036239624, 1.499500036239624, 1.499500036239624, 1.499500036239624, 1.499500036239624, 1.4983999729156494, 1.4982000589370728, 1.4982000589370728, 1.4981000423431396, 1.4981000423431396, 1.4981000423431396, 1.4980000257492065, 1.4980000257492065, 1.4977999925613403, 1.4977999925613403, 1.4975999593734741, 1.4974000453948975, 1.4926999807357788, 1.499500036239624, 1.499500036239624, 1.499500036239624, 1.499500036239624, 1.499500036239624, 1.499500036239624, 1.499500036239624, 1.4428000450134277, 1.4570000171661377, 1.455899953842163, 1.4620000123977661, 1.441499948501587, 1.4765000343322754, 1.44760000705719, 1.4728000164031982, 1.455399990081787, 1.469499945640564, 1.468400001525879, 1.4682999849319458, 1.4478000402450562, 1.44760000705719, 1.4674999713897705, 1.466599941253662, 1.4663000106811523, 1.4158999919891357, 1.4414000511169434, 1.4211000204086304, 1.4184000492095947, 1.4141000509262085, 1.4101999998092651, 1.340999960899353, 1.2613999843597412, 1.316499948501587, 1.4347000122070312, 1.430799961090088, 1.430400013923645, 0.9067000150680542, 1.1805000305175781, 1.4234999418258667, 1.4222999811172485, 0.25949999690055847, 0.9789000153541565, 1.420199990272522, 1.4193999767303467, 0.7152000069618225, 0.2973000109195709, 0.7444000244140625, 0.20029999315738678, 0.8543000221252441, 0.9332000017166138, 0.16830000281333923, 1.1757999658584595, 0.19269999861717224, 0.23319999873638153, 0.22529999911785126, 0.7775999903678894, 0.421999990940094, 0.2248000055551529, 0.18160000443458557, 0.04490000009536743, 0.08569999784231186, 0.40700000524520874, 0.04820000007748604, 0.12790000438690186, 0.08299999684095383, 0.05959999933838844, 0.08730000257492065, 0.3693000078201294, 0.3625999987125397, 0.1500999927520752, 0.20260000228881836, -0.12700000405311584, 0.19290000200271606, -0.024399999529123306, 0.22370000183582306, -0.08619999885559082, -0.12370000034570694, -0.13529999554157257, 0.0421999990940094, 0.06499999761581421, 0.026399999856948853, -0.07270000129938126, -0.03009999915957451, 0.11659999936819077, 0.04879999905824661, -0.11169999837875366, -0.148499995470047, 1.7493000030517578, 1.7493000030517578, 1.7493000030517578, 1.7493000030517578, 1.7493000030517578, 1.7493000030517578, 1.7493000030517578, 1.7490999698638916, 1.7490999698638916, 1.7490999698638916, 1.7490999698638916, 1.7490999698638916, 1.7490999698638916, 1.7490999698638916, 1.7490999698638916, 1.7490999698638916, 1.7490999698638916, 1.7490999698638916, 1.7490999698638916, 1.7490999698638916, 1.7490999698638916, 1.7490999698638916, 1.7490999698638916, 1.7490999698638916, 1.7490999698638916, 1.7490999698638916, 1.7490999698638916, 1.7490999698638916, 1.7490999698638916, 1.7490999698638916, 1.7490999698638916, 1.7490999698638916, 1.7490999698638916, 1.7490999698638916, 1.7490999698638916, 1.7490999698638916, 1.7490999698638916, 1.7490999698638916, 1.7490999698638916, 1.7490999698638916, 1.7490999698638916, 1.7490999698638916, 1.7490999698638916, 1.7407000064849854, 1.7490999698638916, 1.71589994430542, 1.7308000326156616, 1.7036000490188599, 1.6993999481201172, 1.7107000350952148, 1.7098000049591064, 1.725100040435791, 1.6902999877929688, 1.684399962425232, 1.6763999462127686, 1.6931999921798706, 1.674399971961975, 1.6730999946594238, 1.6888999938964844, 1.687600016593933, 1.7117999792099, 1.7115999460220337, 1.6864999532699585, 1.6864999532699585, 1.7098000049591064, 1.6546000242233276, 1.7079999446868896, 1.6785999536514282, 1.6742000579833984, 1.646299958229065, 1.6298999786376953, 1.464900016784668, 1.663100004196167, 1.6627000570297241, 1.1346999406814575, 1.6598000526428223, 1.6586999893188477, 1.5406999588012695, 0.6413000226020813, 1.6552000045776367, 0.1889999955892563, 0.3806999921798706, 0.5507000088691711, 0.5774999856948853, 0.2653999924659729, 0.4652999937534332, 0.5634999871253967, 0.41620001196861267, 0.32589998841285706, 0.26260000467300415, 0.06870000064373016, 0.5248000025749207, 0.0851999968290329, 0.4934000074863434, 0.7143999934196472, 0.1500999927520752, 0.2337000072002411, 0.13120000064373016, 0.2492000013589859, 0.2851000130176544, 0.017500000074505806, 0.3749000132083893, 0.20749999582767487, -0.011900000274181366, 0.1826999932527542, 0.10419999808073044, 0.021400000900030136, -0.10040000081062317, 0.11559999734163284, -0.061000000685453415, 0.0333000011742115, -0.17829999327659607, -0.00559999980032444, -0.2992999851703644, -0.00019999999494757503, -0.22030000388622284, 1.804800033569336, 1.804800033569336, 1.804800033569336, 1.804800033569336, 1.804800033569336, 1.804800033569336, 1.804800033569336, 1.804800033569336, 1.804800033569336, 1.804800033569336, 1.804800033569336, 1.804800033569336, 1.804800033569336, 1.804800033569336, 1.804800033569336, 1.804800033569336, 1.804800033569336, 1.804800033569336, 1.804800033569336, 1.804800033569336, 1.804800033569336, 1.804800033569336, 1.804800033569336, 1.804800033569336, 1.804800033569336, 1.804800033569336, 1.804800033569336, 1.804800033569336, 1.804800033569336, 1.804800033569336, 1.804800033569336, 1.804800033569336, 1.804800033569336, 1.804800033569336, 1.804800033569336, 1.804800033569336, 1.7825000286102295, 1.7802000045776367, 1.77839994430542, 1.7782000303268433, 1.7553000450134277, 1.7720999717712402, 1.7511999607086182, 1.771399974822998, 1.7450000047683716, 1.7269999980926514, 1.7684999704360962, 1.7130999565124512, 1.767799973487854, 1.7210999727249146, 1.7181999683380127, 1.763100028038025, 1.760200023651123, 1.7590999603271484, 1.7577999830245972, 1.722100019454956, 1.752500057220459, 1.7512999773025513, 1.750499963760376, 1.7502000331878662, 1.7496000528335571, 1.6921000480651855, 1.7489999532699585, 1.7484999895095825, 1.7470999956130981, 1.746999979019165, 1.7049000263214111, 1.5144000053405762, 1.6606999635696411, 1.4780999422073364, 1.2121000289916992, 1.1467000246047974, 0.8514999747276306, 0.5498999953269958, 1.5008000135421753, 0.4027000069618225, 0.5494999885559082, 0.6736999750137329, 0.641700029373169, 0.36800000071525574, 0.26570001244544983, 0.555899977684021, 0.83160001039505, 1.2621999979019165, 0.22460000216960907, 0.5069000124931335, 0.5223000049591064, 0.4099000096321106, 0.5274999737739563, 0.7067000269889832, 0.06449999660253525, 0.763700008392334, 0.3131999969482422, 0.05260000005364418, 0.5467000007629395, -0.014800000004470348, 0.22669999301433563, 0.4077000021934509, 0.30790001153945923, 0.23819999396800995, 0.23819999396800995, 0.2087000012397766, 0.0494999997317791, 0.3107999861240387, -0.08619999885559082, 0.027400000020861626, 0.22849999368190765, -0.13300000131130219, -0.024700000882148743, -0.2199999988079071, -0.06889999657869339, -0.444599986076355, -0.19210000336170197, -0.24300000071525574, -0.8046000003814697, -0.1362999975681305, -0.15539999306201935, -0.13840000331401825, -0.006899999920278788, 1.863700032234192, 1.863700032234192, 1.863700032234192, 1.863700032234192, 1.863700032234192, 1.863700032234192, 1.863700032234192, 1.863700032234192, 1.863700032234192, 1.863700032234192, 1.863700032234192, 1.863700032234192, 1.863700032234192, 1.863700032234192, 1.863700032234192, 1.863700032234192, 1.863700032234192, 1.863700032234192, 1.863700032234192, 1.863700032234192, 1.863700032234192, 1.863700032234192, 1.863700032234192, 1.863700032234192, 1.863700032234192, 1.863700032234192, 1.863700032234192, 1.863700032234192, 1.863700032234192, 1.863700032234192, 1.863700032234192, 1.863700032234192, 1.863700032234192, 1.863700032234192, 1.863700032234192, 1.863700032234192, 1.863700032234192, 1.863700032234192, 1.863700032234192, 1.863700032234192, 1.863700032234192, 1.863700032234192, 1.863700032234192, 1.8352999687194824, 1.8147000074386597, 1.8336999416351318, 1.8299000263214111, 1.8039000034332275, 1.8265000581741333, 1.8003000020980835, 1.8238999843597412, 1.8229999542236328, 1.8228000402450562, 1.7754000425338745, 1.8208999633789062, 1.8207999467849731, 1.819000005722046, 1.8154000043869019, 1.8134000301361084, 1.8104000091552734, 1.7702000141143799, 1.8056000471115112, 1.8047000169754028, 1.8042999505996704, 1.801800012588501, 1.8004000186920166, 1.7979999780654907, 1.7973999977111816, 1.7970999479293823, 1.7948999404907227, 1.7914999723434448, 1.7903000116348267, 1.7860000133514404, 1.5988999605178833, 1.6916999816894531, 1.7311999797821045, 1.042799949645996, 1.2867000102996826, 1.718000054359436, 0.9370999932289124, 0.7335000038146973, 0.9648000001907349, 0.7028999924659729, 1.031999945640564, 0.5956000089645386, 0.8131999969482422, 1.1998000144958496, 0.97079998254776, 1.3760000467300415, 0.6254000067710876, 1.3897000551223755, 0.31209999322891235, 0.7807999849319458, 0.9991000294685364, 0.7741000056266785, 0.921500027179718, 0.5965999960899353, 0.24300000071525574, 0.3970000147819519, 0.19550000131130219, 0.9970999956130981, 0.27570000290870667, 0.2842999994754791, 0.18209999799728394, 0.6518999934196472, 0.2757999897003174, 0.34689998626708984, 0.6694999933242798, 0.17919999361038208, 0.45260000228881836, 0.4970000088214874, -0.016699999570846558, 0.24779999256134033, 0.1023000031709671, -0.09049999713897705, 0.10040000081062317, -0.03830000013113022, -0.048700001090765, 0.2937000095844269, 0.2732999920845032, 0.052000001072883606, 0.04830000177025795, 0.10409999638795853, -0.08659999817609787, -0.05260000005364418, -0.7215999960899353, 0.025699999183416367, -0.22859999537467957], \"logprob\": [30.0, 29.0, 28.0, 27.0, 26.0, 25.0, 24.0, 23.0, 22.0, 21.0, 20.0, 19.0, 18.0, 17.0, 16.0, 15.0, 14.0, 13.0, 12.0, 11.0, 10.0, 9.0, 8.0, 7.0, 6.0, 5.0, 4.0, 3.0, 2.0, 1.0, -9.725299835205078, -10.422200202941895, -10.422100067138672, -10.422200202941895, -10.422200202941895, -10.422100067138672, -10.422200202941895, -10.422200202941895, -10.422200202941895, -10.422200202941895, -10.422200202941895, -10.422200202941895, -10.422200202941895, -10.422200202941895, -10.422200202941895, -10.422200202941895, -10.422100067138672, -10.422300338745117, -10.422300338745117, -10.422200202941895, -10.422200202941895, -10.422100067138672, -10.422100067138672, -10.422200202941895, -10.422100067138672, -10.422200202941895, -10.422200202941895, -10.422200202941895, -10.422200202941895, -10.422100067138672, -10.422100067138672, -10.422200202941895, -10.422200202941895, -10.422200202941895, -10.422200202941895, -10.422200202941895, -10.422200202941895, -10.422200202941895, -10.422200202941895, -10.422200202941895, -10.422200202941895, -10.422200202941895, -10.422200202941895, -10.422200202941895, -10.422200202941895, -9.734800338745117, -9.33650016784668, -9.734700202941895, -9.737500190734863, -8.163100242614746, -8.849200248718262, -9.349499702453613, -9.349100112915039, -9.075300216674805, -9.749500274658203, -9.749600410461426, -9.75220012664795, -9.753499984741211, -9.753999710083008, -9.36460018157959, -9.09220027923584, -9.094200134277344, -9.367799758911133, -9.754500389099121, -9.36929988861084, -9.75570011138916, -9.370100021362305, -9.755999565124512, -9.7568998336792, -9.756999969482422, -9.757800102233887, -9.758099555969238, -9.372900009155273, -9.373800277709961, -9.104000091552734, -9.375, -8.896900177001953, -8.731399536132812, -9.378399848937988, -9.119799613952637, -9.119199752807617, -9.383399963378906, -9.382800102233887, -9.384900093078613, -9.386099815368652, -9.38700008392334, -9.136300086975098, -8.340700149536133, -5.399700164794922, -6.38539981842041, -8.087200164794922, -4.328100204467773, -4.96019983291626, -5.825500011444092, -6.018799781799316, -6.8520002365112305, -5.986999988555908, -6.495999813079834, -8.015000343322754, -8.574199676513672, -4.777299880981445, -5.838600158691406, -5.60860013961792, -6.565100193023682, -5.94789981842041, -6.632500171661377, -6.412399768829346, -5.494500160217285, -6.251699924468994, -5.4079999923706055, -5.449699878692627, -5.137599945068359, -5.0254998207092285, -5.940800189971924, -6.6371002197265625, -5.041299819946289, -5.269599914550781, -6.036600112915039, -5.884699821472168, -6.448200225830078, -5.094699859619141, -5.066100120544434, -5.484799861907959, -5.4375, -5.221199989318848, -5.242400169372559, -5.6209001541137695, -5.460700035095215, -5.475100040435791, -5.452700138092041, -5.539700031280518, -5.530799865722656, -5.700399875640869, -5.450099945068359, -5.626200199127197, -5.582699775695801, -5.587299823760986, -5.571100234985352, -5.671000003814697, -10.217399597167969, -10.217399597167969, -10.217499732971191, -10.217399597167969, -10.217499732971191, -10.217499732971191, -10.217399597167969, -10.217399597167969, -10.217399597167969, -10.217399597167969, -10.217399597167969, -10.217399597167969, -10.217399597167969, -10.217399597167969, -10.217399597167969, -10.217399597167969, -10.217399597167969, -10.217399597167969, -10.217399597167969, -10.217399597167969, -10.217399597167969, -10.217399597167969, -10.217499732971191, -10.217499732971191, -10.217399597167969, -10.217499732971191, -10.217399597167969, -10.217399597167969, -10.217399597167969, -10.217399597167969, -9.522199630737305, -9.52239990234375, -9.52239990234375, -9.522500038146973, -9.522600173950195, -9.522600173950195, -9.522600173950195, -9.522600173950195, -9.52280044555664, -9.522899627685547, -9.523099899291992, -9.523200035095215, -9.527799606323242, -10.217399597167969, -10.217399597167969, -10.217399597167969, -10.217399597167969, -10.217399597167969, -10.217399597167969, -10.217399597167969, -8.476200103759766, -8.868300437927246, -8.86929988861084, -9.151000022888184, -8.659500122070312, -9.543600082397461, -8.877400398254395, -9.547100067138672, -9.15779972076416, -9.55049991607666, -9.55109977722168, -9.55150032043457, -9.170299530029297, -9.170299530029297, -9.552599906921387, -9.553299903869629, -9.553500175476074, -8.685199737548828, -9.171500205993652, -8.902700424194336, -8.906599998474121, -8.910200119018555, -8.914600372314453, -8.287199974060059, -7.735400199890137, -8.311100006103516, -9.178400039672852, -9.181900024414062, -9.182499885559082, -6.917900085449219, -8.123600006103516, -9.188899993896484, -9.190699577331543, -4.28439998626709, -7.3495001792907715, -9.192500114440918, -9.19540023803711, -6.400899887084961, -4.887899875640869, -6.7006001472473145, -4.803800106048584, -7.127500057220459, -7.46619987487793, -5.035299777984619, -8.330100059509277, -5.255300045013428, -5.3958001136779785, -5.393700122833252, -7.087100028991699, -6.034200191497803, -5.481599807739258, -5.385200023651123, -5.003799915313721, -5.1321001052856445, -6.054500102996826, -5.132800102233887, -5.3632001876831055, -5.334499835968018, -5.28439998626709, -5.363900184631348, -6.096799850463867, -6.104700088500977, -5.6097002029418945, -5.758299827575684, -5.035600185394287, -5.752399921417236, -5.315299987792969, -5.84499979019165, -5.258399963378906, -5.190700054168701, -5.18720006942749, -5.5295000076293945, -5.571599960327148, -5.543000221252441, -5.415299892425537, -5.500199794769287, -5.6844000816345215, -5.6458001136779785, -5.573299884796143, -5.611700057983398, -8.833100318908691, -9.2391996383667, -9.239100456237793, -9.239100456237793, -9.239100456237793, -9.2391996383667, -9.239100456237793, -9.934700012207031, -9.934599876403809, -9.934599876403809, -9.934700012207031, -9.934700012207031, -9.934599876403809, -9.934700012207031, -9.934700012207031, -9.934599876403809, -9.934700012207031, -9.934700012207031, -9.934599876403809, -9.934599876403809, -9.934800148010254, -9.934700012207031, -9.934700012207031, -9.934700012207031, -9.934599876403809, -9.934700012207031, -9.934700012207031, -9.934599876403809, -9.934700012207031, -9.934700012207031, -9.934599876403809, -9.934599876403809, -9.934599876403809, -9.934700012207031, -9.934599876403809, -9.934700012207031, -9.934700012207031, -9.934700012207031, -9.934700012207031, -9.934700012207031, -9.934700012207031, -9.934700012207031, -9.934700012207031, -9.248100280761719, -9.934700012207031, -8.58080005645752, -9.257800102233887, -8.59119987487793, -8.595600128173828, -8.871999740600586, -8.873200416564941, -9.263299942016602, -8.605299949645996, -8.611499786376953, -8.61970043182373, -8.890399932861328, -8.621299743652344, -8.623499870300293, -8.89490032196045, -8.894700050354004, -9.277099609375, -9.278499603271484, -8.896400451660156, -8.89739990234375, -9.27929973602295, -8.418399810791016, -9.280699729919434, -8.906399726867676, -8.909199714660645, -8.648900032043457, -8.674500465393066, -7.817999839782715, -8.92080020904541, -8.920999526977539, -6.965400218963623, -8.92389965057373, -8.925299644470215, -8.531599998474121, -5.647900104522705, -8.92710018157959, -4.354899883270264, -5.110400199890137, -5.63730001449585, -5.79640007019043, -4.915599822998047, -5.547100067138672, -5.850500106811523, -5.471199989318848, -5.303199768066406, -5.199100017547607, -4.839900016784668, -6.032700061798096, -4.981800079345703, -6.0295000076293945, -6.549799919128418, -5.320000171661377, -5.535399913787842, -5.331999778747559, -5.6427998542785645, -5.716400146484375, -5.186100006103516, -5.918799877166748, -5.593599796295166, -5.184100151062012, -5.5843000411987305, -5.46750020980835, -5.321199893951416, -5.104499816894531, -5.520999908447266, -5.278800010681152, -5.414700031280518, -5.230199813842773, -5.456900119781494, -5.3480000495910645, -5.613100051879883, -5.637899875640869, -9.874699592590332, -9.874799728393555, -9.874799728393555, -9.874799728393555, -9.874799728393555, -9.874799728393555, -9.874799728393555, -9.874799728393555, -9.874799728393555, -9.874799728393555, -9.874799728393555, -9.874799728393555, -9.874699592590332, -9.874799728393555, -9.874799728393555, -9.874699592590332, -9.874799728393555, -9.874799728393555, -9.874799728393555, -9.874799728393555, -9.874799728393555, -9.874799728393555, -9.874799728393555, -9.874699592590332, -9.875, -9.874799728393555, -9.874699592590332, -9.874799728393555, -9.874799728393555, -9.874799728393555, -9.874699592590332, -9.874699592590332, -9.874799728393555, -9.874799728393555, -9.874799728393555, -9.874799728393555, -9.202199935913086, -9.204899787902832, -9.206600189208984, -9.206999778747559, -8.823699951171875, -9.212800025939941, -8.827500343322754, -9.213800430297852, -8.83430004119873, -8.564000129699707, -9.216300010681152, -8.356200218200684, -9.217399597167969, -8.56980037689209, -8.575300216674805, -9.225500106811523, -9.225199699401855, -9.225899696350098, -9.227999687194824, -8.857500076293945, -9.232600212097168, -9.234000205993652, -9.234600067138672, -9.235799789428711, -9.236200332641602, -8.600099563598633, -9.236200332641602, -9.238100051879883, -9.238200187683105, -9.239399909973145, -8.876299858093262, -7.5269999504089355, -8.631999969482422, -8.003999710083008, -6.94350004196167, -6.9232001304626465, -5.911900043487549, -5.063000202178955, -8.387900352478027, -4.78249979019165, -5.257299900054932, -5.73769998550415, -5.660099983215332, -4.974599838256836, -4.782899856567383, -5.644000053405762, -6.443600177764893, -7.712299823760986, -4.9475998878479, -5.735799789428711, -5.907299995422363, -5.629899978637695, -5.934599876403809, -6.46589994430542, -4.987400054931641, -6.614999771118164, -5.635000228881836, -5.128300189971924, -6.186100006103516, -5.018899917602539, -5.5742998123168945, -5.954100131988525, -5.770699977874756, -5.6504998207092285, -5.659800052642822, -5.608099937438965, -5.368100166320801, -5.807400226593018, -5.289899826049805, -5.467400074005127, -5.734499931335449, -5.350800037384033, -5.486400127410889, -5.2870001792907715, -5.5320000648498535, -5.3531999588012695, -5.536099910736084, -5.53380012512207, -5.348499774932861, -5.587500095367432, -5.603400230407715, -5.608500003814697, -5.643499851226807, -9.800800323486328, -9.800800323486328, -9.800800323486328, -9.80090045928955, -9.800800323486328, -9.800800323486328, -9.80090045928955, -9.800800323486328, -9.800800323486328, -9.800800323486328, -9.800800323486328, -9.800800323486328, -9.800800323486328, -9.800800323486328, -9.80090045928955, -9.800800323486328, -9.80090045928955, -9.800800323486328, -9.800800323486328, -9.80090045928955, -9.800999641418457, -9.80090045928955, -9.800800323486328, -9.800800323486328, -9.800800323486328, -9.800800323486328, -9.80090045928955, -9.80090045928955, -9.800800323486328, -9.800800323486328, -9.800800323486328, -9.800800323486328, -9.800800323486328, -9.800800323486328, -9.800800323486328, -9.800800323486328, -9.800800323486328, -9.800800323486328, -9.800800323486328, -9.800800323486328, -9.800800323486328, -9.800800323486328, -9.800800323486328, -9.135100364685059, -8.75, -9.137299537658691, -9.14210033416748, -8.76159954071045, -9.144000053405762, -8.76550006866455, -9.147100448608398, -9.148300170898438, -9.14799976348877, -8.503499984741211, -9.150400161743164, -9.150099754333496, -9.152199745178223, -9.155900001525879, -9.157699584960938, -9.160499572753906, -8.796099662780762, -9.171299934387207, -9.166399955749512, -9.168100357055664, -9.170499801635742, -9.171699523925781, -9.173600196838379, -9.175200462341309, -9.175299644470215, -9.17710018157959, -9.181599617004395, -9.182000160217285, -9.186400413513184, -7.990300178527832, -8.59000015258789, -8.83650016784668, -5.2652997970581055, -6.920199871063232, -8.85200023651123, -5.771200180053711, -5.083399772644043, -6.009099960327148, -5.094699859619141, -6.341300010681152, -4.982100009918213, -5.734600067138672, -7.041399955749512, -6.285999774932861, -7.811699867248535, -5.574999809265137, -7.881999969482422, -4.891600131988525, -6.196100234985352, -6.8094000816345215, -6.2118000984191895, -6.617499828338623, -5.7600998878479, -4.808899879455566, -5.232600212097168, -4.713200092315674, -6.870200157165527, -5.068299770355225, -5.133299827575684, -4.884900093078613, -6.078199863433838, -5.218999862670898, -5.45989990234375, -6.183499813079834, -5.268799781799316, -5.834499835968018, -5.932499885559082, -5.065400123596191, -5.519199848175049, -5.360899925231934, -5.094600200653076, -5.369699954986572, -5.219200134277344, -5.220900058746338, -5.644999980926514, -5.62470006942749, -5.399199962615967, -5.413300037384033, -5.467700004577637, -5.3043999671936035, -5.343500137329102, -5.265500068664551, -5.543700218200684, -5.571199893951416]}, \"token.table\": {\"Topic\": [5, 4, 3, 4, 2, 5, 5, 2, 1, 1, 4, 2, 2, 5, 4, 3, 3, 4, 5, 1, 1, 2, 3, 4, 5, 3, 4, 1, 2, 3, 4, 5, 3, 1, 3, 5, 1, 2, 2, 1, 2, 3, 4, 5, 5, 3, 1, 2, 3, 4, 5, 2, 1, 2, 3, 4, 5, 3, 4, 1, 2, 4, 5, 1, 2, 3, 4, 5, 3, 5, 1, 2, 3, 4, 5, 1, 2, 3, 4, 5, 2, 1, 2, 3, 4, 5, 1, 4, 2, 1, 1, 5, 1, 2, 3, 4, 5, 1, 2, 1, 2, 3, 4, 5, 1, 2, 3, 4, 5, 5, 1, 2, 4, 5, 3, 3, 2, 1, 2, 3, 4, 5, 1, 2, 3, 4, 5, 1, 2, 3, 4, 5, 1, 2, 3, 4, 5, 3, 1, 2, 3, 4, 5, 1, 2, 3, 4, 5, 1, 1, 2, 3, 4, 5, 5, 3, 2, 4, 1, 5, 4, 3, 1, 2, 3, 4, 5, 4, 1, 2, 3, 5, 1, 3, 1, 2, 3, 4, 5, 2, 3, 3, 1, 2, 3, 4, 5, 4, 3, 4, 1, 2, 3, 4, 5, 1, 2, 3, 4, 5, 2, 4, 1, 2, 5, 1, 3, 1, 4, 4, 1, 5, 2, 3, 3, 1, 2, 2, 2, 1, 2, 3, 4, 5, 5, 4, 1, 2, 3, 4, 5, 5, 3, 1, 2, 3, 4, 3, 1, 1, 2, 3, 4, 5, 4, 3, 1, 2, 3, 4, 5, 1, 2, 1, 2, 3, 4, 5, 1, 2, 3, 4, 5, 1, 3, 1, 1, 2, 5, 4, 5, 1, 2, 3, 4, 5, 4, 1, 2, 3, 4, 5, 1, 1, 2, 3, 4, 5, 3, 5, 5, 2, 1, 1, 4, 5, 5, 1, 2, 3, 4, 5, 1, 2, 3, 4, 5, 1, 2, 2, 2, 2, 1, 2, 5, 3, 1, 2, 3, 4, 5, 5, 1, 2, 3, 4, 5, 4, 4, 2, 1, 2, 5, 1, 1, 2, 3, 4, 5, 4, 1, 1, 2, 3, 4, 5, 4, 1, 1, 4, 2, 1, 1, 2, 3, 4, 5, 3, 2, 1, 2, 3, 4, 5, 2, 5, 1, 2, 3, 4, 5, 2, 4, 2, 4, 5, 3, 4, 1, 2, 3, 4, 5, 4, 4, 5, 1, 1, 2, 4, 5, 1, 2, 3, 4, 5, 2, 3, 2, 1, 2, 3, 4, 5, 1, 2, 3, 4, 5, 5, 1, 2, 3, 4, 5, 1, 4, 1, 2, 3, 4, 1, 1, 2, 3, 4, 5, 4, 4, 1, 4, 4, 1, 1, 2, 3, 4, 5, 5, 2, 5, 5, 3, 5, 1, 1, 2, 3, 4, 5, 5, 2, 1, 1, 1, 2, 3, 4, 5, 2, 3, 4, 5, 3, 5, 1, 2, 3, 4, 5, 1, 2, 3, 4, 5, 1, 2, 3, 4, 5, 5, 1, 4, 5, 1, 1, 1, 4, 3, 1, 3, 4, 1, 2, 1, 1, 5, 3, 2, 2, 3, 5, 1, 3, 4, 4, 1, 3, 3, 1, 1, 2, 3, 4, 5, 1, 2, 3, 4, 5, 4, 1, 2, 3, 4, 5, 1, 2, 3, 4, 5, 3, 4, 5, 1, 2, 3, 4, 5, 5, 1, 1, 2, 3, 4, 5, 1, 5, 1, 2, 3, 4, 5, 1, 2, 3, 4, 5, 1, 2, 3, 4, 5, 1, 2, 3, 4, 5, 1, 2, 3, 4, 5, 1, 2, 3, 4, 5, 1, 2, 3, 4, 5, 5, 3, 1, 2, 3, 4, 5, 1, 2, 3, 4, 5, 4, 4, 4, 2, 1, 2, 3, 4, 5, 5, 2, 5, 1, 1, 2, 4, 3, 1, 2, 3, 4, 5, 3, 5, 2, 2, 1, 2, 3, 4, 5, 1, 1, 2, 3, 4, 5, 4, 1, 2, 3, 4, 5, 2, 4, 1, 2, 3, 4, 5, 3, 5, 3, 3, 1, 4, 3, 5, 1, 5, 3, 1, 2, 3, 4, 5, 1, 1, 2, 3, 4, 5, 5, 1, 3, 1, 1, 2, 3, 4, 5, 2, 2, 1, 2, 3, 4, 5, 1, 2, 3, 4, 5, 2, 1, 2, 3, 4, 5, 3, 3, 1, 2, 3, 4, 5, 3, 1, 2, 3, 4, 5, 5, 5, 1, 1, 2, 3, 4, 5, 5, 2, 3, 4, 1, 2, 3, 4, 5, 5, 1, 2, 3, 4, 5, 4, 1, 1, 2, 3, 4, 5, 3, 1, 3, 2, 3, 1, 4, 4, 3, 1, 5, 2, 1, 1, 4, 5, 2, 5, 5, 4, 3, 4, 1, 2, 3, 4, 5, 1, 2, 3, 4, 5, 3, 2, 4, 3, 3, 5, 3, 5, 1, 1, 2, 3, 4, 5, 1, 2, 3, 4, 5, 3, 1, 1, 2, 3, 4, 5, 4, 3, 2, 4, 5, 1, 5, 1, 2, 3, 2, 2, 5, 5, 1, 1, 2, 3, 4, 5, 4, 1, 5, 2, 3, 1, 2, 1, 1, 3, 3, 4, 1, 2, 3, 4, 5, 1, 2, 3, 4, 5, 1, 1, 2, 3, 4, 5, 2, 2, 1, 2, 3, 4, 5, 3, 1, 2, 3, 4, 5, 2, 1, 2, 3, 4, 5, 2, 1, 2, 1, 2, 3, 4, 5, 2, 2, 3, 5, 1, 5, 2, 1, 2, 3, 4, 5, 1, 2, 3, 4, 5, 3, 1, 2, 1, 2, 3, 4, 5, 1, 3, 4, 5, 5, 1, 2, 3, 4, 5, 2, 4, 1, 1, 2, 3, 4, 5, 2, 3, 5, 3, 1, 2, 3, 4, 5, 1, 2, 3, 4, 5, 4, 1, 2, 3, 4, 5, 2, 5, 1, 2, 3, 4, 1, 1, 2, 3, 4, 5, 5, 2, 1, 2, 3, 4, 5, 2, 1, 2, 3, 4, 5, 1, 3, 1, 2, 2, 3, 5, 1, 2, 3, 4, 5, 1, 1, 1, 1, 1, 2, 3, 4, 5, 1, 4, 1, 2, 3, 4, 5, 3, 5, 1, 4, 1, 2, 3, 4, 5, 2, 1, 2, 3, 4, 5, 1, 2, 3, 4, 5, 4, 1, 4, 1, 2, 3, 4, 5, 4, 1, 2, 3, 4, 5, 1, 2, 3, 4, 5, 1, 2, 3, 4, 5, 1, 2, 3, 4, 5, 2, 2, 2, 5, 2, 5, 1, 2, 3, 4, 5, 2, 1, 2, 5, 1, 2, 3, 4, 5, 1, 2, 3, 4, 5, 5, 3, 3, 4], \"Freq\": [0.9804109930992126, 0.9952369928359985, 0.9994070529937744, 0.9936909675598145, 1.0330901145935059, 0.9800864458084106, 0.9798117280006409, 1.0294240713119507, 0.9978849291801453, 0.997869610786438, 0.9941307902336121, 1.0330356359481812, 1.0331083536148071, 0.9820887446403503, 0.9952882528305054, 0.9993610978126526, 0.9971036314964294, 0.9952431321144104, 0.9804377555847168, 0.9943495392799377, 0.258482426404953, 0.2803260087966919, 0.16382689774036407, 0.1783892810344696, 0.1201397255063057, 0.9965088963508606, 0.9952900409698486, 0.28710266947746277, 0.19491374492645264, 0.14486831426620483, 0.17515897750854492, 0.19754770398139954, 0.9993497729301453, 0.9979660511016846, 0.9975597858428955, 0.9809655547142029, 0.9952107071876526, 1.0330756902694702, 1.0290195941925049, 0.30511772632598877, 0.236333966255188, 0.118166983127594, 0.13580384850502014, 0.20458760857582092, 0.9803804755210876, 0.9993477463722229, 0.3660642206668854, 0.17524349689483643, 0.12851190567016602, 0.19082070887088776, 0.14408910274505615, 1.0298386812210083, 0.20919115841388702, 0.15176613628864288, 0.30353227257728577, 0.18458043038845062, 0.15176613628864288, 0.9993385672569275, 0.9939604997634888, 0.710901141166687, 0.07109011709690094, 0.07109011709690094, 0.07109011709690094, 0.30657753348350525, 0.15490232408046722, 0.2065364420413971, 0.22589923441410065, 0.10326822102069855, 0.9976809024810791, 0.9803526401519775, 0.26784586906433105, 0.30095043778419495, 0.09780889004468918, 0.2452746033668518, 0.08727562427520752, 0.30915403366088867, 0.2787454426288605, 0.14444082975387573, 0.13683867454528809, 0.12923653423786163, 1.026556372642517, 0.47620850801467896, 0.10822920501232147, 0.259750097990036, 0.04329168424010277, 0.0974062904715538, 0.9978495836257935, 0.9953094124794006, 1.0298278331756592, 0.9947630763053894, 0.9948753714561462, 0.9803829193115234, 0.2440490573644638, 0.31997543573379517, 0.17896930873394012, 0.1735459864139557, 0.08677299320697784, 0.6887325644493103, 0.25044819712638855, 0.5351564288139343, 0.08449838310480118, 0.15021935105323792, 0.187774196267128, 0.046943549066782, 0.30485355854034424, 0.19963862001895905, 0.21852335333824158, 0.12949532270431519, 0.145682230591774, 0.9804722666740417, 0.09252869337797165, 0.7402295470237732, 0.09252869337797165, 0.09252869337797165, 0.9994051456451416, 0.9993956089019775, 1.0330309867858887, 0.25192394852638245, 0.17288897931575775, 0.31120017170906067, 0.12843181192874908, 0.133371502161026, 0.3366537094116211, 0.278609961271286, 0.1346614807844162, 0.10215698182582855, 0.14859198033809662, 0.3854788839817047, 0.24445003271102905, 0.11595706641674042, 0.12535898387432098, 0.12535898387432098, 0.12421782314777374, 0.19322772324085236, 0.04830693081021309, 0.234633669257164, 0.39335644245147705, 0.9993744492530823, 0.06709355115890503, 0.18786193430423737, 0.04025613144040108, 0.2683742046356201, 0.42939871549606323, 0.16159845888614655, 0.16159845888614655, 0.053866155445575714, 0.5117284655570984, 0.10773231089115143, 0.9944252371788025, 0.2909027636051178, 0.21737788617610931, 0.08631180971860886, 0.19819748401641846, 0.20778769254684448, 0.979919970035553, 0.997533917427063, 1.033121943473816, 0.9952834248542786, 0.9978747367858887, 0.980435848236084, 0.9940642714500427, 0.998162567615509, 0.2849505841732025, 0.22271999716758728, 0.15721412003040314, 0.20634351670742035, 0.1310117542743683, 0.9946072697639465, 0.1743735820055008, 0.5928701758384705, 0.03487471491098404, 0.1743735820055008, 0.99793541431427, 0.9965037703514099, 0.30853763222694397, 0.26666465401649475, 0.15426881611347198, 0.1388419270515442, 0.13223041594028473, 1.0298465490341187, 0.9966979026794434, 0.9972468018531799, 0.3077971041202545, 0.24250681698322296, 0.16322574019432068, 0.14457137882709503, 0.1414623111486435, 0.9952882528305054, 0.9993808269500732, 0.9974033236503601, 0.2768222689628601, 0.24344652891159058, 0.1727685034275055, 0.14331932365894318, 0.16295211017131805, 0.5603658556938171, 0.14009146392345428, 0.12452574074268341, 0.07782859355211258, 0.10896002501249313, 1.033042073249817, 0.9938943982124329, 0.13610227406024933, 0.8166136741638184, 0.9804036617279053, 0.9979313611984253, 0.9994688630104065, 0.9979798197746277, 0.9952319264411926, 0.9952840209007263, 0.9978891015052795, 0.9814152717590332, 1.0330861806869507, 0.9971440434455872, 0.9980334043502808, 0.9939265251159668, 1.027686595916748, 1.0330578088760376, 1.0329325199127197, 0.35182541608810425, 0.28922584652900696, 0.2099858969449997, 0.0736931636929512, 0.07527796179056168, 0.9803758859634399, 0.9952800273895264, 0.26609963178634644, 0.2160809189081192, 0.20207566022872925, 0.14405393600463867, 0.1720644235610962, 0.9803575873374939, 0.9979004859924316, 0.07115168869495392, 0.07115168869495392, 0.07115168869495392, 0.7826685905456543, 0.9993569254875183, 0.9979141354560852, 0.29682669043540955, 0.175397589802742, 0.13492122292518616, 0.350795179605484, 0.05396848917007446, 0.9952905178070068, 0.997568666934967, 0.3171628415584564, 0.4757442772388458, 0.11533194035291672, 0.07208246737718582, 0.04324948042631149, 0.9944878220558167, 1.0272282361984253, 0.46627119183540344, 0.16955316066741943, 0.09537365287542343, 0.08477658033370972, 0.18015022575855255, 0.27032583951950073, 0.20497232675552368, 0.17229558527469635, 0.20645764470100403, 0.14704537391662598, 0.9978633522987366, 0.9976517558097839, 0.9946284890174866, 0.9978972673416138, 1.0273149013519287, 0.9803918600082397, 0.9939089417457581, 0.9803633093833923, 0.21216408908367157, 0.21923622488975525, 0.06364922225475311, 0.28288543224334717, 0.21923622488975525, 0.993599534034729, 0.4625176191329956, 0.18613514304161072, 0.14101147651672363, 0.13537101447582245, 0.078966423869133, 0.9978637099266052, 0.4476598799228668, 0.26859593391418457, 0.13022832572460175, 0.06511416286230087, 0.08953198045492172, 0.9993816614151001, 0.9803972244262695, 0.9812946319580078, 1.0298761129379272, 0.9979010820388794, 0.2210911363363266, 0.7738189697265625, 0.9809820652008057, 0.9801621437072754, 0.08295335620641708, 0.22812171280384064, 0.22812171280384064, 0.02073833905160427, 0.41476675868034363, 0.3058911859989166, 0.18936119973659515, 0.11652997136116028, 0.11167455464601517, 0.2816140949726105, 0.9979495406150818, 1.0298365354537964, 1.0298553705215454, 1.0330634117126465, 1.0330239534378052, 0.998038113117218, 1.0332121849060059, 0.980399489402771, 0.9993390440940857, 0.11602960526943207, 0.226399227976799, 0.13300955295562744, 0.2037593126296997, 0.32261890172958374, 0.9804377555847168, 0.25208595395088196, 0.3379024267196655, 0.09654355049133301, 0.17699651420116425, 0.13408826291561127, 0.995287299156189, 0.9948593378067017, 1.0298446416854858, 0.9978711605072021, 1.027010202407837, 0.9793936014175415, 0.9978904128074646, 0.2297937273979187, 0.17464323341846466, 0.1516638547182083, 0.31251946091651917, 0.12868449091911316, 0.9952545166015625, 0.9978929162025452, 0.18662740290164948, 0.25069352984428406, 0.21448223292827606, 0.20612578094005585, 0.14205966889858246, 0.9952955842018127, 0.9979162812232971, 0.16600395739078522, 0.6640158295631409, 1.0299144983291626, 0.9978815913200378, 0.23827289044857025, 0.19402220845222473, 0.23146510124206543, 0.1463676393032074, 0.1872144192457199, 0.9980466365814209, 1.0330488681793213, 0.26968976855278015, 0.25334492325782776, 0.2553880214691162, 0.13688798248767853, 0.08581037819385529, 1.0330297946929932, 0.9803696274757385, 0.2112739086151123, 0.32503676414489746, 0.157101109623909, 0.14626654982566833, 0.157101109623909, 1.0298899412155151, 0.99366295337677, 0.679279088973999, 0.2264263778924942, 0.9857777953147888, 0.9993962049484253, 0.7459678053855896, 0.16196800768375397, 0.22841642796993256, 0.11628472805023193, 0.20349827408790588, 0.29071182012557983, 0.995261549949646, 0.9952839016914368, 0.9803771376609802, 0.9945375323295593, 0.9979142546653748, 1.0290559530258179, 0.9940010905265808, 0.9806918501853943, 0.25196051597595215, 0.20037804543972015, 0.22616927325725555, 0.16069921851158142, 0.1626831591129303, 1.033087134361267, 0.9993720650672913, 1.0330737829208374, 0.0926562175154686, 0.0926562175154686, 0.12354163080453873, 0.12354163080453873, 0.5559373497962952, 0.28081098198890686, 0.19928522408008575, 0.12681786715984344, 0.14946392178535461, 0.2445773184299469, 0.9802311062812805, 0.16655586659908295, 0.23317819833755493, 0.1110372394323349, 0.17765958607196808, 0.3136802017688751, 0.9950684309005737, 0.994083821773529, 0.9949648976325989, 1.0261274576187134, 0.997637152671814, 0.9928590059280396, 0.9947439432144165, 0.09172453731298447, 0.2481958121061325, 0.14028458297252655, 0.2805691659450531, 0.2428002506494522, 0.9954662322998047, 0.9952536821365356, 0.9979168772697449, 0.9952823519706726, 0.9937419295310974, 0.9946569800376892, 0.2550687789916992, 0.13664399087429047, 0.16397279500961304, 0.10931519418954849, 0.33705517649650574, 0.9804988503456116, 1.0330843925476074, 0.7378246784210205, 0.9804430603981018, 0.9973809123039246, 0.9805851578712463, 0.9978821873664856, 0.24302877485752106, 0.09001065790653229, 0.16201917827129364, 0.09901172667741776, 0.4050479531288147, 0.9804034233093262, 1.0275812149047852, 0.9960691928863525, 0.9978781938552856, 0.22309498488903046, 0.2700623571872711, 0.18004156649112701, 0.1409021019935608, 0.18591248989105225, 1.0330506563186646, 0.9993448853492737, 0.9938846230506897, 0.9805101156234741, 0.9972233772277832, 0.9791965484619141, 0.2706175446510315, 0.18243880569934845, 0.18243880569934845, 0.20980462431907654, 0.15507297217845917, 0.2408006191253662, 0.17773379385471344, 0.2866674065589905, 0.14906705915927887, 0.14906705915927887, 0.2830936014652252, 0.25000473856925964, 0.12500236928462982, 0.22426895797252655, 0.11764928698539734, 0.9794930815696716, 0.9949342012405396, 0.9941317439079285, 0.9804107546806335, 0.993865966796875, 0.9979096055030823, 0.9979062080383301, 0.9952641725540161, 0.999373733997345, 0.18117716908454895, 0.7247086763381958, 0.09058858454227448, 0.1278703808784485, 0.8950926065444946, 0.9945463538169861, 0.9939048290252686, 0.9803645610809326, 0.9986578226089478, 1.029015064239502, 1.0298928022384644, 0.9972319006919861, 0.9804627895355225, 0.9979435801506042, 0.9988183379173279, 0.995241641998291, 0.9953161478042603, 0.9943678975105286, 0.9993706345558167, 0.9972129464149475, 0.9954403638839722, 0.295474112033844, 0.1965370923280716, 0.18985214829444885, 0.13236171007156372, 0.18584118783473969, 0.3865933120250702, 0.20415601134300232, 0.14334358274936676, 0.18678103387355804, 0.07818740606307983, 0.9929117560386658, 0.2618149518966675, 0.1444496214389801, 0.1534777283668518, 0.10833721607923508, 0.33403974771499634, 0.27206018567085266, 0.2814415991306305, 0.24157069623470306, 0.0773964375257492, 0.1266487091779709, 0.9969289898872375, 0.9952846169471741, 0.9800522327423096, 0.18976137042045593, 0.1641179323196411, 0.08718765527009964, 0.32310718297958374, 0.24104821681976318, 0.9809387922286987, 0.8291285634040833, 0.28268203139305115, 0.1642248034477234, 0.20999236404895782, 0.1426871120929718, 0.19922351837158203, 0.9950088262557983, 0.9803799390792847, 0.26986163854599, 0.21823592483997345, 0.14783723652362823, 0.13375750184059143, 0.22996903955936432, 0.21785271167755127, 0.19515971839427948, 0.331317663192749, 0.10892635583877563, 0.14523513615131378, 0.06563209742307663, 0.2698208689689636, 0.058339644223451614, 0.38650014996528625, 0.21877366304397583, 0.23425078392028809, 0.15128695964813232, 0.1708078682422638, 0.2488914579153061, 0.19520898163318634, 0.2536148130893707, 0.2078232616186142, 0.1778826117515564, 0.2377638965845108, 0.12328498065471649, 0.18338438868522644, 0.16927789151668549, 0.11285193264484406, 0.23981034755706787, 0.2962363064289093, 0.38635292649269104, 0.2221529334783554, 0.18834705650806427, 0.10624706000089645, 0.09175882488489151, 0.9803720116615295, 0.9993979930877686, 0.42949190735816956, 0.17017604410648346, 0.14586517214775085, 0.08103621006011963, 0.16207242012023926, 0.20488207042217255, 0.3342812657356262, 0.14557410776615143, 0.17253227531909943, 0.1401824653148651, 0.9952672719955444, 0.9953498840332031, 0.9940206408500671, 1.033146619796753, 0.47332000732421875, 0.1510595828294754, 0.17120085656642914, 0.1208476647734642, 0.090635746717453, 0.9803739786148071, 1.0327064990997314, 0.9802753329277039, 0.9951090216636658, 0.997895359992981, 1.0330941677093506, 0.9939464926719666, 0.9972460269927979, 0.25844839215278625, 0.20274829864501953, 0.10917216539382935, 0.1492762267589569, 0.28072842955589294, 0.9979966282844543, 0.9816616177558899, 1.026487112045288, 1.0275999307632446, 0.33364370465278625, 0.22979433834552765, 0.13478320837020874, 0.14362145960330963, 0.1590883880853653, 0.997883141040802, 0.29941797256469727, 0.1907251477241516, 0.13535332679748535, 0.16816626489162445, 0.2050808072090149, 0.9935622215270996, 0.2967025339603424, 0.25928059220314026, 0.13899578154087067, 0.1363227814435959, 0.16839872300624847, 1.0330557823181152, 0.995229959487915, 0.21662184596061707, 0.16463260352611542, 0.18196235597133636, 0.27294352650642395, 0.16463260352611542, 0.9994012117385864, 0.9804000854492188, 0.9993958473205566, 0.9985523819923401, 0.9952290058135986, 0.9954591989517212, 0.9993910789489746, 0.9804257750511169, 0.9978893399238586, 0.9798952341079712, 0.9994297623634338, 0.2915355861186981, 0.1427309662103653, 0.26420414447784424, 0.1427309662103653, 0.1579151153564453, 0.9944509267807007, 0.27040916681289673, 0.23365452885627747, 0.1286412626504898, 0.2139645367860794, 0.15226924419403076, 0.9812708497047424, 0.9946646094322205, 0.9993945360183716, 0.9951199293136597, 0.410395085811615, 0.15494509041309357, 0.16750819981098175, 0.1423819661140442, 0.1256311535835266, 1.0330374240875244, 1.0293114185333252, 0.2679852545261383, 0.23254919052124023, 0.1926836222410202, 0.13288524746894836, 0.1727508306503296, 0.3121514618396759, 0.2703167200088501, 0.13515836000442505, 0.1641208678483963, 0.11585002392530441, 1.0330455303192139, 0.15371480584144592, 0.23057220876216888, 0.15371480584144592, 0.3293888568878174, 0.1317555457353592, 0.9994242191314697, 0.9993492960929871, 0.2661590576171875, 0.27243638038635254, 0.15693339705467224, 0.16195526719093323, 0.14186778664588928, 0.9978085160255432, 0.4557837247848511, 0.15014052391052246, 0.18767565488815308, 0.13941620290279388, 0.06970810145139694, 0.981369137763977, 0.9803661704063416, 0.9979597330093384, 0.1780034452676773, 0.20562466979026794, 0.20562466979026794, 0.2086936980485916, 0.20255564153194427, 0.9804917573928833, 1.033125638961792, 0.9993851184844971, 0.9952656030654907, 0.27874836325645447, 0.17206689715385437, 0.2753070294857025, 0.16174288094043732, 0.1066814735531807, 0.9804311394691467, 0.4814610779285431, 0.08235518634319305, 0.20272044837474823, 0.1298677921295166, 0.10136022418737411, 0.9952765703201294, 0.9978991746902466, 0.3946736454963684, 0.21740497648715973, 0.11204718053340912, 0.1287706345319748, 0.147166445851326, 0.9980116486549377, 0.9978942275047302, 0.9994049072265625, 1.0330407619476318, 0.9992238879203796, 0.9978691339492798, 0.9943344593048096, 0.9933276176452637, 0.9995272159576416, 0.9953994154930115, 0.9821194410324097, 1.0330357551574707, 0.9932850003242493, 0.9978728294372559, 0.995267391204834, 0.980488657951355, 1.0271375179290771, 0.980500340461731, 0.9803057909011841, 0.9952923059463501, 1.0064220428466797, 0.9952669143676758, 0.20456887781620026, 0.1925354152917862, 0.36100390553474426, 0.12033464014530182, 0.13236810266971588, 0.2172490656375885, 0.2337300330400467, 0.2262386828660965, 0.17379924654960632, 0.14982694387435913, 0.9993847608566284, 1.0274665355682373, 0.9940552711486816, 0.998200535774231, 0.9993579983711243, 0.9803817272186279, 0.9993816614151001, 0.9804288148880005, 0.9947797060012817, 0.23116083443164825, 0.1581626683473587, 0.1703290343284607, 0.37715715169906616, 0.06083179637789726, 0.16601519286632538, 0.4565417766571045, 0.031127847731113434, 0.176391139626503, 0.16601519286632538, 0.9978289008140564, 0.9944351315498352, 0.16655075550079346, 0.16655075550079346, 0.5274106860160828, 0.08327537775039673, 0.05551691725850105, 0.995420515537262, 0.9993749260902405, 1.0330482721328735, 0.9952811598777771, 0.981022298336029, 0.997896671295166, 0.9799831509590149, 0.7491754293441772, 0.12486256659030914, 0.997261643409729, 1.0293185710906982, 1.0275567770004272, 0.9802180528640747, 0.9804089069366455, 0.9944291710853577, 0.23077821731567383, 0.21462373435497284, 0.17308366298675537, 0.28385719656944275, 0.09461906552314758, 0.9952629804611206, 0.794573187828064, 0.099321648478508, 1.0273066759109497, 0.9982069730758667, 0.9951179623603821, 1.0330605506896973, 0.9940463304519653, 0.9937775135040283, 0.997204065322876, 0.9968066215515137, 0.9952567219734192, 0.1742132157087326, 0.3009137213230133, 0.07918782532215118, 0.06335026025772095, 0.3959391117095947, 0.09712211787700653, 0.22661827504634857, 0.07399780303239822, 0.16187019646167755, 0.4393619894981384, 0.9979484677314758, 0.4930272102355957, 0.09667200595140457, 0.21267840266227722, 0.12567360699176788, 0.06767040491104126, 1.0298782587051392, 1.0330510139465332, 0.19618895649909973, 0.26362890005111694, 0.17626351118087769, 0.15020716190338135, 0.21151621639728546, 0.9994233846664429, 0.23919303715229034, 0.24298974871635437, 0.1385800987482071, 0.1727505326271057, 0.20692096650600433, 1.0330445766448975, 0.40116938948631287, 0.17323224246501923, 0.25073087215423584, 0.09117486327886581, 0.07749863713979721, 1.0273810625076294, 0.127950057387352, 0.895650327205658, 0.25709447264671326, 0.16454046964645386, 0.30337148904800415, 0.14397290349006653, 0.12854723632335663, 1.0298666954040527, 0.08235696703195572, 0.24707090854644775, 0.5764987468719482, 0.9978495836257935, 0.9813876152038574, 1.0330443382263184, 0.14356064796447754, 0.24724332988262177, 0.07975590974092484, 0.23129214346408844, 0.3030724823474884, 0.44414421916007996, 0.2512331008911133, 0.12113024294376373, 0.09421240538358688, 0.08972610533237457, 0.9993769526481628, 0.9979076385498047, 1.0279037952423096, 0.2122095376253128, 0.20159906148910522, 0.14854668080806732, 0.24757780134677887, 0.19098858535289764, 0.1791526824235916, 0.0895763412117958, 0.0895763412117958, 0.6270343661308289, 0.9802661538124084, 0.15355469286441803, 0.48260045051574707, 0.175491064786911, 0.0877455323934555, 0.10968191921710968, 1.0331439971923828, 0.9952853322029114, 0.9979343414306641, 0.2297554761171341, 0.2297554761171341, 0.13054288923740387, 0.15142974257469177, 0.25586405396461487, 1.0331536531448364, 0.9980162382125854, 0.9804225564002991, 0.9970220923423767, 0.32293638586997986, 0.19627229869365692, 0.1860022395849228, 0.10498285293579102, 0.1882844716310501, 0.13137812912464142, 0.1194346696138382, 0.1194346696138382, 0.21498240530490875, 0.40607786178588867, 0.9929206967353821, 0.18966078758239746, 0.5479089617729187, 0.06322026252746582, 0.12644052505493164, 0.08429368585348129, 1.0275789499282837, 0.9803998470306396, 0.13309423625469208, 0.13309423625469208, 0.13309423625469208, 0.5989240407943726, 0.9943086504936218, 0.4251287579536438, 0.2354559302330017, 0.2027537226676941, 0.07194487005472183, 0.06540442258119583, 0.9843869209289551, 1.0331286191940308, 0.20572790503501892, 0.1528264433145523, 0.16458232700824738, 0.12343674153089523, 0.34679847955703735, 1.0297292470932007, 0.19178467988967896, 0.159820556640625, 0.03196411207318306, 0.09589233994483948, 0.511425793170929, 0.9949523210525513, 0.9994113445281982, 0.9978487491607666, 1.028721570968628, 1.0276868343353271, 0.9993593096733093, 0.9803871512413025, 0.11233127117156982, 0.5616563558578491, 0.07488751411437988, 0.07488751411437988, 0.14977502822875977, 0.9945738911628723, 0.9979185461997986, 0.994914174079895, 0.9947222471237183, 0.22951015830039978, 0.23716050386428833, 0.11092991381883621, 0.2256850004196167, 0.19890880584716797, 0.9950843453407288, 0.9951342940330505, 0.17234854400157928, 0.19846196472644806, 0.17757123708724976, 0.2768022119998932, 0.17757123708724976, 0.12305986136198044, 0.7383592128753662, 0.9945095181465149, 0.9953110814094543, 0.23813986778259277, 0.14288391172885895, 0.11486746370792389, 0.2857678234577179, 0.21852834522724152, 1.0330578088760376, 0.2712633013725281, 0.2745315432548523, 0.13399754464626312, 0.15033870935440063, 0.1732163280248642, 0.17016951739788055, 0.24072760343551636, 0.20337332785129547, 0.28638285398483276, 0.09961142390966415, 0.9945709109306335, 0.9978421926498413, 0.9955295324325562, 0.25322070717811584, 0.18610195815563202, 0.2227121740579605, 0.18000026047229767, 0.15559343993663788, 0.9941569566726685, 0.27128100395202637, 0.5179001092910767, 0.07398573309183121, 0.09864763915538788, 0.02466190978884697, 0.2373940795660019, 0.17211070656776428, 0.29674258828163147, 0.12463188916444778, 0.17211070656776428, 0.26466333866119385, 0.23866960406303406, 0.19613443315029144, 0.1630515158176422, 0.13942086696624756, 0.28411951661109924, 0.19272442162036896, 0.19868497550487518, 0.15298743546009064, 0.17086908221244812, 1.0291694402694702, 1.0289891958236694, 1.0268226861953735, 0.9803807139396667, 1.0330601930618286, 0.9799678325653076, 0.21992765367031097, 0.08797106146812439, 0.08797106146812439, 0.19793489575386047, 0.41786253452301025, 1.033111333847046, 0.9961888194084167, 0.8211996555328369, 0.9805694818496704, 0.34557753801345825, 0.23539339005947113, 0.150251105427742, 0.12270506471395493, 0.14524273574352264, 0.0880182534456253, 0.14669708907604218, 0.1760365068912506, 0.5574489235877991, 0.029339417815208435, 0.9804278016090393, 0.9971657395362854, 0.7979154586791992, 0.1994788646697998], \"Term\": [\"023\", \"10814\", \"12had\", \"13great\", \"168\", \"1980\", \"1992\", \"1hr\", \"20minute\", \"20yrs\", \"284\", \"2yrs\", \"3108\", \"569\", \"8081\", \"810yrs\", \"844\", \"90u20ac\", \"abd\", \"absolutley\", \"accommodation\", \"accommodation\", \"accommodation\", \"accommodation\", \"accommodation\", \"activated\", \"activitiesfood\", \"activity\", \"activity\", \"activity\", \"activity\", \"activity\", \"affair\", \"againand\", \"allotted\", \"allowance\", \"allowing\", \"allyoucan\", \"alright\", \"also\", \"also\", \"also\", \"also\", \"also\", \"alsowill\", \"alternate\", \"although\", \"although\", \"although\", \"although\", \"although\", \"ambiance\", \"amp\", \"amp\", \"amp\", \"amp\", \"amp\", \"and2\", \"anybody\", \"approach\", \"approach\", \"approach\", \"approach\", \"aqua\", \"aqua\", \"aqua\", \"aqua\", \"aqua\", \"aquatic\", \"aquo\", \"area\", \"area\", \"area\", \"area\", \"area\", \"around\", \"around\", \"around\", \"around\", \"around\", \"arrange\", \"arrived\", \"arrived\", \"arrived\", \"arrived\", \"arrived\", \"asap\", \"astonishing\", \"ata\", \"attendant\", \"attire\", \"auditorium\", \"away\", \"away\", \"away\", \"away\", \"away\", \"awesome\", \"awesome\", \"baby\", \"baby\", \"baby\", \"baby\", \"baby\", \"back\", \"back\", \"back\", \"back\", \"back\", \"badmington\", \"barbecue\", \"barbecue\", \"barbecue\", \"barbecue\", \"bead\", \"beforestaff\", \"beneficial\", \"better\", \"better\", \"better\", \"better\", \"better\", \"bike\", \"bike\", \"bike\", \"bike\", \"bike\", \"bit\", \"bit\", \"bit\", \"bit\", \"bit\", \"bite\", \"bite\", \"bite\", \"bite\", \"bite\", \"blip\", \"bois\", \"bois\", \"bois\", \"bois\", \"bois\", \"boisfrancs\", \"boisfrancs\", \"boisfrancs\", \"boisfrancs\", \"boisfrancs\", \"bomb\", \"book\", \"book\", \"book\", \"book\", \"book\", \"brainer\", \"bumpy\", \"burgled\", \"businessunderstaffed\", \"calaisneeds\", \"callback\", \"campus\", \"canoe\", \"car\", \"car\", \"car\", \"car\", \"car\", \"casualty\", \"cater\", \"cater\", \"cater\", \"cater\", \"celebrating\", \"centerparks\", \"centre\", \"centre\", \"centre\", \"centre\", \"centre\", \"changingwalking\", \"charactersreviews\", \"charming\", \"child\", \"child\", \"child\", \"child\", \"child\", \"chilrens\", \"cinema\", \"clamp\", \"clean\", \"clean\", \"clean\", \"clean\", \"clean\", \"cleaning\", \"cleaning\", \"cleaning\", \"cleaning\", \"cleaning\", \"cleanloads\", \"coke\", \"collect\", \"collect\", \"companyplenty\", \"compass\", \"competency\", \"competitively\", \"competitor\", \"compromise\", \"conce\", \"condensation\", \"configurationthe\", \"congestion\", \"contrary\", \"conveniently\", \"coot\", \"coped\", \"copyu\", \"cottage\", \"cottage\", \"cottage\", \"cottage\", \"cottage\", \"cottagenon\", \"cough\", \"could\", \"could\", \"could\", \"could\", \"could\", \"courtstennis\", \"crok\", \"cross\", \"cross\", \"cross\", \"cross\", \"crowdy\", \"csn\", \"customer\", \"customer\", \"customer\", \"customer\", \"customer\", \"cyclepaths\", \"daillette\", \"damp\", \"damp\", \"damp\", \"damp\", \"damp\", \"dampness\", \"dash\", \"daughter\", \"daughter\", \"daughter\", \"daughter\", \"daughter\", \"day\", \"day\", \"day\", \"day\", \"day\", \"daycant\", \"daysthe\", \"daytime\", \"declinedwe\", \"decorate\", \"denied\", \"developed\", \"dexpire\", \"didnt\", \"didnt\", \"didnt\", \"didnt\", \"didnt\", \"digging\", \"dirty\", \"dirty\", \"dirty\", \"dirty\", \"dirty\", \"discourage\", \"door\", \"door\", \"door\", \"door\", \"door\", \"dothere\", \"downdamp\", \"dreux\", \"dusk\", \"e1200\", \"earlier\", \"earlier\", \"earth\", \"east\", \"easter\", \"easter\", \"easter\", \"easter\", \"easter\", \"eat\", \"eat\", \"eat\", \"eat\", \"eat\", \"eatingwe\", \"effortlessley\", \"effortlessleywe\", \"effortlessly\", \"emplacement\", \"enabled\", \"enabling\", \"enclosure\", \"englandgreat\", \"english\", \"english\", \"english\", \"english\", \"english\", \"englishgood\", \"enjoy\", \"enjoy\", \"enjoy\", \"enjoy\", \"enjoy\", \"entertainmentactivities\", \"enthusiasm\", \"equivalrnts\", \"escaping\", \"esp\", \"establish\", \"etcoverall\", \"euro\", \"euro\", \"euro\", \"euro\", \"euro\", \"everywherefood\", \"expectedaccomodation\", \"expensive\", \"expensive\", \"expensive\", \"expensive\", \"expensive\", \"expensiveeverything\", \"expensiveswimming\", \"express\", \"express\", \"extrau2019s\", \"facelift\", \"facility\", \"facility\", \"facility\", \"facility\", \"facility\", \"failure\", \"familly\", \"family\", \"family\", \"family\", \"family\", \"family\", \"familykids\", \"famliy\", \"fantastic\", \"fantastic\", \"fantastic\", \"fantastic\", \"fantastic\", \"fantasticthe\", \"farmi\", \"faulty\", \"faulty\", \"feral\", \"feugo\", \"field\", \"find\", \"find\", \"find\", \"find\", \"find\", \"fingernail\", \"fixedit\", \"flatly\", \"flatter\", \"flyer\", \"flying\", \"focal\", \"fody\", \"food\", \"food\", \"food\", \"food\", \"food\", \"foodexcellent\", \"foodfabulous\", \"formulaic\", \"franc\", \"franc\", \"franc\", \"franc\", \"franc\", \"france\", \"france\", \"france\", \"france\", \"france\", \"franceu2026\", \"french\", \"french\", \"french\", \"french\", \"french\", \"friendlier\", \"frustrated\", \"funthe\", \"gap\", \"gendarmerie\", \"generous\", \"gluten\", \"go\", \"go\", \"go\", \"go\", \"go\", \"goodthis\", \"goof\", \"goto\", \"gouge\", \"grassed\", \"hallway\", \"happy\", \"happy\", \"happy\", \"happy\", \"happy\", \"happygood\", \"harve\", \"hdmi\", \"headboard\", \"heavenly\", \"hedgehog\", \"hedging\", \"help\", \"help\", \"help\", \"help\", \"help\", \"helpcompared\", \"heron\", \"hindsight\", \"hitthe\", \"holiday\", \"holiday\", \"holiday\", \"holiday\", \"holiday\", \"holidayeverything\", \"holidaynice\", \"hollandwe\", \"holydays\", \"horrific\", \"hotbox\", \"hour\", \"hour\", \"hour\", \"hour\", \"hour\", \"house\", \"house\", \"house\", \"house\", \"house\", \"however\", \"however\", \"however\", \"however\", \"however\", \"humongous\", \"hung\", \"hunting\", \"ibm\", \"ideally\", \"illage\", \"illness\", \"impacted\", \"impeccable\", \"improved\", \"improved\", \"improved\", \"incident\", \"incident\", \"incorrect\", \"indicate\", \"indifference\", \"infested\", \"ingres\", \"inly\", \"insesant\", \"insisted\", \"install\", \"international\", \"jaccuzi\", \"jamboree\", \"jeep\", \"joythe\", \"kempervanan\", \"keyed\", \"kid\", \"kid\", \"kid\", \"kid\", \"kid\", \"kitchen\", \"kitchen\", \"kitchen\", \"kitchen\", \"kitchen\", \"kitchenette\", \"know\", \"know\", \"know\", \"know\", \"know\", \"lake\", \"lake\", \"lake\", \"lake\", \"lake\", \"laser\", \"latout\", \"laventure\", \"le\", \"le\", \"le\", \"le\", \"le\", \"learning\", \"lembarcadere\", \"like\", \"like\", \"like\", \"like\", \"like\", \"liking\", \"limitedno\", \"little\", \"little\", \"little\", \"little\", \"little\", \"location\", \"location\", \"location\", \"location\", \"location\", \"lodge\", \"lodge\", \"lodge\", \"lodge\", \"lodge\", \"look\", \"look\", \"look\", \"look\", \"look\", \"lot\", \"lot\", \"lot\", \"lot\", \"lot\", \"love\", \"love\", \"love\", \"love\", \"love\", \"loved\", \"loved\", \"loved\", \"loved\", \"loved\", \"lovelytoo\", \"luttle\", \"made\", \"made\", \"made\", \"made\", \"made\", \"main\", \"main\", \"main\", \"main\", \"main\", \"maintainedgeneral\", \"maintainence\", \"maintenend\", \"married\", \"meal\", \"meal\", \"meal\", \"meal\", \"meal\", \"memebers\", \"memorable\", \"method\", \"modernising\", \"mondaythursday\", \"moneybetter\", \"moundo\", \"movingwould\", \"much\", \"much\", \"much\", \"much\", \"much\", \"multi\", \"mundi\", \"mystery\", \"naked\", \"need\", \"need\", \"need\", \"need\", \"need\", \"needrestaurants\", \"nice\", \"nice\", \"nice\", \"nice\", \"nice\", \"official\", \"old\", \"old\", \"old\", \"old\", \"old\", \"oldfor\", \"oldnot\", \"open\", \"open\", \"open\", \"open\", \"open\", \"organizedthe\", \"orientated\", \"othet\", \"overcharged\", \"overcrowded\", \"overgrow\", \"paced\", \"pafk\", \"paintingstaff\", \"pampering\", \"parallel\", \"parc\", \"parc\", \"parc\", \"parc\", \"parc\", \"parcswe\", \"park\", \"park\", \"park\", \"park\", \"park\", \"parkour\", \"parlour\", \"patronised\", \"payed\", \"people\", \"people\", \"people\", \"people\", \"people\", \"persnickety\", \"physical\", \"place\", \"place\", \"place\", \"place\", \"place\", \"play\", \"play\", \"play\", \"play\", \"play\", \"pleasanti\", \"plus\", \"plus\", \"plus\", \"plus\", \"plus\", \"politeshop\", \"poniesthe\", \"pool\", \"pool\", \"pool\", \"pool\", \"pool\", \"praise\", \"premium\", \"premium\", \"premium\", \"premium\", \"premium\", \"prestige\", \"pretend\", \"prettythe\", \"price\", \"price\", \"price\", \"price\", \"price\", \"prison\", \"problemonly\", \"pur\", \"purse\", \"quite\", \"quite\", \"quite\", \"quite\", \"quite\", \"quizz\", \"quot\", \"quot\", \"quot\", \"quot\", \"quot\", \"rafter\", \"rag\", \"really\", \"really\", \"really\", \"really\", \"really\", \"reccommend\", \"reconsider\", \"recover\", \"recreation\", \"redeeming\", \"referring\", \"refresh\", \"register\", \"rejuvenate\", \"relate\", \"relation\", \"relieved\", \"renewed\", \"renewedexcellent\", \"repeated\", \"repeatedely\", \"replacing\", \"replicate\", \"representative\", \"reputation\", \"requested\", \"resolvedpleasant\", \"resort\", \"resort\", \"resort\", \"resort\", \"resort\", \"restaurant\", \"restaurant\", \"restaurant\", \"restaurant\", \"restaurant\", \"restnice\", \"restraunt\", \"restrict\", \"reunion\", \"revisit\", \"rewind\", \"riddle\", \"riot\", \"rudely\", \"safe\", \"safe\", \"safe\", \"safe\", \"safe\", \"sauna\", \"sauna\", \"sauna\", \"sauna\", \"sauna\", \"scooter\", \"screaming\", \"security\", \"security\", \"security\", \"security\", \"security\", \"senseo\", \"septemberrecommend\", \"serveyourself\", \"servicewe\", \"severely\", \"sfe\", \"shack\", \"shade\", \"shade\", \"shalet\", \"shirt\", \"shoddy\", \"shorted\", \"signagestaff\", \"silly\", \"site\", \"site\", \"site\", \"site\", \"site\", \"siting\", \"six\", \"six\", \"skylight\", \"slab\", \"slashed\", \"slovenly\", \"smallest\", \"smelling\", \"sold\", \"somebody\", \"southern\", \"spa\", \"spa\", \"spa\", \"spa\", \"spa\", \"speak\", \"speak\", \"speak\", \"speak\", \"speak\", \"specification\", \"spent\", \"spent\", \"spent\", \"spent\", \"spent\", \"spotlessley\", \"sprintsummer\", \"staff\", \"staff\", \"staff\", \"staff\", \"staff\", \"starndads\", \"stay\", \"stay\", \"stay\", \"stay\", \"stay\", \"staydefinitely\", \"stayed\", \"stayed\", \"stayed\", \"stayed\", \"stayed\", \"staywe\", \"steam\", \"steam\", \"still\", \"still\", \"still\", \"still\", \"still\", \"stockedthe\", \"stopped\", \"stopped\", \"stopped\", \"strict\", \"summon\", \"surroundingsthere\", \"swim\", \"swim\", \"swim\", \"swim\", \"swim\", \"swimming\", \"swimming\", \"swimming\", \"swimming\", \"swimming\", \"swimmingpools\", \"swmming\", \"syringe\", \"take\", \"take\", \"take\", \"take\", \"take\", \"tall\", \"tall\", \"tall\", \"tall\", \"teach\", \"tennis\", \"tennis\", \"tennis\", \"tennis\", \"tennis\", \"thereoverall\", \"thereprepare\", \"thingsa\", \"think\", \"think\", \"think\", \"think\", \"think\", \"thoughlovely\", \"thrilled\", \"thru\", \"ticked\", \"time\", \"time\", \"time\", \"time\", \"time\", \"tire\", \"tire\", \"tire\", \"tire\", \"tire\", \"tiredthe\", \"toddler\", \"toddler\", \"toddler\", \"toddler\", \"toddler\", \"tofrom\", \"toget\", \"toll\", \"toll\", \"toll\", \"toll\", \"tomorrow\", \"took\", \"took\", \"took\", \"took\", \"took\", \"transform\", \"tripping\", \"try\", \"try\", \"try\", \"try\", \"try\", \"tucked\", \"turn\", \"turn\", \"turn\", \"turn\", \"turn\", \"u00a31200\", \"u00a32300\", \"u20ac1600\", \"u20ac178\", \"u20ac49\", \"u20ac790\", \"u20acmin\", \"uk\", \"uk\", \"uk\", \"uk\", \"uk\", \"uninviting\", \"unsatisfactory\", \"unused\", \"unwilling\", \"use\", \"use\", \"use\", \"use\", \"use\", \"utterly\", \"valley\", \"value\", \"value\", \"value\", \"value\", \"value\", \"vary\", \"vary\", \"vegetable\", \"vendu00e9ethe\", \"villa\", \"villa\", \"villa\", \"villa\", \"villa\", \"villagetown\", \"vip\", \"vip\", \"vip\", \"vip\", \"vip\", \"visit\", \"visit\", \"visit\", \"visit\", \"visit\", \"voie\", \"vrry\", \"washer\", \"water\", \"water\", \"water\", \"water\", \"water\", \"waved\", \"wear\", \"wear\", \"wear\", \"wear\", \"wear\", \"weather\", \"weather\", \"weather\", \"weather\", \"weather\", \"week\", \"week\", \"week\", \"week\", \"week\", \"well\", \"well\", \"well\", \"well\", \"well\", \"wellness\", \"west\", \"weu2019d\", \"wich\", \"windowsextremely\", \"winner\", \"wire\", \"wire\", \"wire\", \"wire\", \"wire\", \"wonderfull\", \"worrying\", \"wrap\", \"wwi\", \"year\", \"year\", \"year\", \"year\", \"year\", \"yet\", \"yet\", \"yet\", \"yet\", \"yet\", \"yetalways\", \"youu2019d\", \"youu2019re\", \"youu2019re\"]}, \"R\": 30, \"lambda.step\": 0.01, \"plot.opts\": {\"xlab\": \"PC1\", \"ylab\": \"PC2\"}, \"topic.order\": [5, 3, 1, 2, 4]};\n",
       "\n",
       "function LDAvis_load_lib(url, callback){\n",
       "  var s = document.createElement('script');\n",
       "  s.src = url;\n",
       "  s.async = true;\n",
       "  s.onreadystatechange = s.onload = callback;\n",
       "  s.onerror = function(){console.warn(\"failed to load library \" + url);};\n",
       "  document.getElementsByTagName(\"head\")[0].appendChild(s);\n",
       "}\n",
       "\n",
       "if(typeof(LDAvis) !== \"undefined\"){\n",
       "   // already loaded: just create the visualization\n",
       "   !function(LDAvis){\n",
       "       new LDAvis(\"#\" + \"ldavis_el1768150117301287001751646\", ldavis_el1768150117301287001751646_data);\n",
       "   }(LDAvis);\n",
       "}else if(typeof define === \"function\" && define.amd){\n",
       "   // require.js is available: use it to load d3/LDAvis\n",
       "   require.config({paths: {d3: \"https://cdnjs.cloudflare.com/ajax/libs/d3/3.5.5/d3.min\"}});\n",
       "   require([\"d3\"], function(d3){\n",
       "      window.d3 = d3;\n",
       "      LDAvis_load_lib(\"https://cdn.rawgit.com/bmabey/pyLDAvis/files/ldavis.v1.0.0.js\", function(){\n",
       "        new LDAvis(\"#\" + \"ldavis_el1768150117301287001751646\", ldavis_el1768150117301287001751646_data);\n",
       "      });\n",
       "    });\n",
       "}else{\n",
       "    // require.js not available: dynamically load d3 & LDAvis\n",
       "    LDAvis_load_lib(\"https://cdnjs.cloudflare.com/ajax/libs/d3/3.5.5/d3.min.js\", function(){\n",
       "         LDAvis_load_lib(\"https://cdn.rawgit.com/bmabey/pyLDAvis/files/ldavis.v1.0.0.js\", function(){\n",
       "                 new LDAvis(\"#\" + \"ldavis_el1768150117301287001751646\", ldavis_el1768150117301287001751646_data);\n",
       "            })\n",
       "         });\n",
       "}\n",
       "</script>"
      ],
      "text/plain": [
       "PreparedData(topic_coordinates=                x           y  topics  cluster       Freq\n",
       "topic                                                    \n",
       "4      600.193481  184.534454       1        1  28.352026\n",
       "2     -229.938095 -447.619110       2        1  22.315125\n",
       "0     -546.712769   94.912498       3        1  17.386490\n",
       "1      373.883514 -401.620880       4        1  16.443399\n",
       "3       11.660259  334.095062       5        1  15.502956, topic_info=     Category         Freq        Term        Total  loglift  logprob\n",
       "term                                                                 \n",
       "644   Default   216.000000       speak   216.000000  30.0000  30.0000\n",
       "608   Default   353.000000     english   353.000000  29.0000  29.0000\n",
       "276   Default   360.000000      french   360.000000  28.0000  28.0000\n",
       "7     Default  1261.000000     cottage  1261.000000  27.0000  27.0000\n",
       "428   Default   356.000000       villa   356.000000  26.0000  26.0000\n",
       "287   Default   448.000000        much   448.000000  25.0000  25.0000\n",
       "224   Default   664.000000        area   664.000000  24.0000  24.0000\n",
       "75    Default   144.000000        bite   144.000000  23.0000  23.0000\n",
       "303   Default   652.000000       staff   652.000000  22.0000  22.0000\n",
       "283   Default   137.000000       lodge   137.000000  21.0000  21.0000\n",
       "243   Default   433.000000        site   433.000000  20.0000  20.0000\n",
       "21    Default   194.000000          le   194.000000  19.0000  19.0000\n",
       "274   Default   240.000000        find   240.000000  18.0000  18.0000\n",
       "40    Default   667.000000  restaurant   667.000000  17.0000  17.0000\n",
       "14    Default   185.000000          go   185.000000  16.0000  16.0000\n",
       "106   Default   759.000000    activity   759.000000  15.0000  15.0000\n",
       "307   Default   170.000000         try   170.000000  14.0000  14.0000\n",
       "260   Default    74.000000        bois    74.000000  13.0000  13.0000\n",
       "279   Default   111.000000        help   111.000000  12.0000  12.0000\n",
       "172   Default   567.000000         lot   567.000000  11.0000  11.0000\n",
       "33    Default   761.000000        park   761.000000  10.0000  10.0000\n",
       "37    Default   325.000000       price   325.000000   9.0000   9.0000\n",
       "48    Default   876.000000        time   876.000000   8.0000   8.0000\n",
       "310   Default   240.000000       visit   240.000000   7.0000   7.0000\n",
       "247   Default   526.000000        stay   526.000000   6.0000   6.0000\n",
       "448   Default   243.000000         amp   243.000000   5.0000   5.0000\n",
       "99    Default    83.000000        tire    83.000000   4.0000   4.0000\n",
       "18    Default   747.000000         kid   747.000000   3.0000   3.0000\n",
       "130   Default   673.000000         day   673.000000   2.0000   2.0000\n",
       "609   Default   217.000000        euro   217.000000   1.0000   1.0000\n",
       "...       ...          ...         ...          ...      ...      ...\n",
       "22     Topic5    98.263031      little   426.144318   0.3970  -5.2326\n",
       "48     Topic5   165.184570        time   876.333557   0.1955  -4.7132\n",
       "3406   Topic5    19.105303        wire    45.469498   0.9971  -6.8702\n",
       "253    Topic5   115.804901        also   566.994263   0.2757  -5.0683\n",
       "247    Topic5   108.515472        stay   526.771179   0.2843  -5.1333\n",
       "18     Topic5   139.110382         kid   747.950439   0.1821  -4.8849\n",
       "800    Topic5    42.182392        love   141.778702   0.6519  -6.0782\n",
       "66     Topic5    99.605278        nice   487.612671   0.2758  -5.2190\n",
       "428    Topic5    78.282127       villa   356.933105   0.3469  -5.4599\n",
       "95     Topic5    37.966129        swim   125.382553   0.6695  -6.1835\n",
       "163    Topic5    94.762756     holiday   510.993103   0.1792  -5.2688\n",
       "152    Topic5    53.822727      france   220.789078   0.4526  -5.8345\n",
       "510    Topic5    48.801361       think   191.507950   0.4970  -5.9325\n",
       "33     Topic5   116.145187        park   761.808472  -0.0167  -5.0654\n",
       "344    Topic5    73.773941        like   371.442078   0.2478  -5.5192\n",
       "72     Topic5    86.429329        well   503.309326   0.1023  -5.3609\n",
       "34     Topic5   112.795799        pool   796.516235  -0.0905  -5.0946\n",
       "77     Topic5    85.669487       could   499.812775   0.1004  -5.3697\n",
       "40     Topic5    99.582466  restaurant   667.436707  -0.0383  -5.2192\n",
       "130    Topic5    99.415642         day   673.261597  -0.0487  -5.2209\n",
       "261    Topic5    65.053856        book   312.819305   0.2937  -5.6450\n",
       "37     Topic5    66.388824       price   325.836395   0.2733  -5.6247\n",
       "60     Topic5    83.180016       clean   509.352112   0.0520  -5.3992\n",
       "228    Topic5    82.013031        food   504.047241   0.0483  -5.4133\n",
       "293    Topic5    77.674622       place   451.517365   0.1041  -5.4677\n",
       "430    Topic5    91.453911       child   643.280884  -0.0866  -5.3044\n",
       "189    Topic5    87.948166      really   597.962402  -0.0526  -5.3435\n",
       "7      Topic5    95.076683     cottage  1261.989502  -0.7216  -5.2655\n",
       "29     Topic5    71.988396        need   452.578613   0.0257  -5.5437\n",
       "172    Topic5    70.037750         lot   567.790161  -0.2286  -5.5712\n",
       "\n",
       "[662 rows x 6 columns], token_table=       Topic      Freq              Term\n",
       "term                                    \n",
       "7609       5  0.980411               023\n",
       "3697       4  0.995237             10814\n",
       "10204      3  0.999407             12had\n",
       "9913       4  0.993691           13great\n",
       "8168       2  1.033090               168\n",
       "3202       5  0.980086              1980\n",
       "4054       5  0.979812              1992\n",
       "656        2  1.029424               1hr\n",
       "3869       1  0.997885          20minute\n",
       "10170      1  0.997870             20yrs\n",
       "5160       4  0.994131               284\n",
       "7968       2  1.033036              2yrs\n",
       "8691       2  1.033108              3108\n",
       "3678       5  0.982089               569\n",
       "3698       4  0.995288              8081\n",
       "9941       3  0.999361            810yrs\n",
       "7073       3  0.997104               844\n",
       "6539       4  0.995243           90u20ac\n",
       "10444      5  0.980438               abd\n",
       "9272       1  0.994350        absolutley\n",
       "73         1  0.258482     accommodation\n",
       "73         2  0.280326     accommodation\n",
       "73         3  0.163827     accommodation\n",
       "73         4  0.178389     accommodation\n",
       "73         5  0.120140     accommodation\n",
       "7186       3  0.996509         activated\n",
       "3039       4  0.995290    activitiesfood\n",
       "106        1  0.287103          activity\n",
       "106        2  0.194914          activity\n",
       "106        3  0.144868          activity\n",
       "...      ...       ...               ...\n",
       "72         5  0.170869              well\n",
       "10786      2  1.029169          wellness\n",
       "3641       2  1.028989              west\n",
       "790        2  1.026823          weu2019d\n",
       "10412      5  0.980381              wich\n",
       "3374       2  1.033060  windowsextremely\n",
       "9088       5  0.979968            winner\n",
       "3406       1  0.219928              wire\n",
       "3406       2  0.087971              wire\n",
       "3406       3  0.087971              wire\n",
       "3406       4  0.197935              wire\n",
       "3406       5  0.417863              wire\n",
       "10764      2  1.033111        wonderfull\n",
       "5944       1  0.996189          worrying\n",
       "4380       2  0.821200              wrap\n",
       "8383       5  0.980569               wwi\n",
       "223        1  0.345578              year\n",
       "223        2  0.235393              year\n",
       "223        3  0.150251              year\n",
       "223        4  0.122705              year\n",
       "223        5  0.145243              year\n",
       "796        1  0.088018               yet\n",
       "796        2  0.146697               yet\n",
       "796        3  0.176037               yet\n",
       "796        4  0.557449               yet\n",
       "796        5  0.029339               yet\n",
       "3692       5  0.980428         yetalways\n",
       "9901       3  0.997166         youu2019d\n",
       "4453       3  0.797915        youu2019re\n",
       "4453       4  0.199479        youu2019re\n",
       "\n",
       "[1064 rows x 3 columns], R=30, lambda_step=0.01, plot_opts={'xlab': 'PC1', 'ylab': 'PC2'}, topic_order=[5, 3, 1, 2, 4])"
      ]
     },
     "execution_count": 23,
     "metadata": {},
     "output_type": "execute_result"
    }
   ],
   "source": [
    "pyLDAvis.enable_notebook()\n",
    "viz\n",
    "#pyLDAvis.show(viz)"
   ]
  },
  {
   "cell_type": "code",
   "execution_count": null,
   "metadata": {},
   "outputs": [],
   "source": []
  }
 ],
 "metadata": {
  "kernelspec": {
   "display_name": "Python 3",
   "language": "python",
   "name": "python3"
  },
  "language_info": {
   "codemirror_mode": {
    "name": "ipython",
    "version": 3
   },
   "file_extension": ".py",
   "mimetype": "text/x-python",
   "name": "python",
   "nbconvert_exporter": "python",
   "pygments_lexer": "ipython3",
   "version": "3.6.8"
  }
 },
 "nbformat": 4,
 "nbformat_minor": 2
}
